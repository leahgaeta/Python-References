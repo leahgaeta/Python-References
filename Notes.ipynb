{
 "cells": [
  {
   "cell_type": "markdown",
   "metadata": {},
   "source": [
    "Toolbox Notes"
   ]
  },
  {
   "cell_type": "code",
   "execution_count": 1,
   "metadata": {},
   "outputs": [
    {
     "name": "stdout",
     "output_type": "stream",
     "text": [
      "<class 'zip'>\n"
     ]
    }
   ],
   "source": [
    "#using zip(); zip() function accepts arbitrary number of iterables and returns an iterator of tuples\n",
    "avengers = ['hawkeye', 'iron man', 'thor', 'quicksilver']\n",
    "names = ['barton', 'stark', 'odinson', 'maximoff']\n",
    "z = zip(avengers, names) #creates a zip object which is an iterator of tuples\n",
    "print(type(z))"
   ]
  },
  {
   "cell_type": "code",
   "execution_count": 2,
   "metadata": {},
   "outputs": [
    {
     "name": "stdout",
     "output_type": "stream",
     "text": [
      "[('hawkeye', 'barton'), ('iron man', 'stark'), ('thor', 'odinson'), ('quicksilver', 'maximoff')]\n"
     ]
    }
   ],
   "source": [
    "#using zip() cont'd\n",
    "print(list(z))"
   ]
  },
  {
   "cell_type": "code",
   "execution_count": 3,
   "metadata": {},
   "outputs": [],
   "source": [
    "#defining a function\n",
    "def raise_both(value1, value2):  #function header\n",
    "    \"\"\"Raise value1 to the power of value2 and vice versa.\"\"\"  #doc strings\n",
    "    \n",
    "    new_value1 = value1 ** value2  #function body\n",
    "    new_value2 = value2 ** value1\n",
    "    \n",
    "    new_tuple = (new_value1, new_value2)\n",
    "    \n",
    "    return new_tuple"
   ]
  },
  {
   "cell_type": "code",
   "execution_count": 4,
   "metadata": {},
   "outputs": [
    {
     "data": {
      "text/plain": [
       "(81, 64)"
      ]
     },
     "execution_count": 4,
     "metadata": {},
     "output_type": "execute_result"
    }
   ],
   "source": [
    "#defining a function example\n",
    "raise_both(3,4)"
   ]
  },
  {
   "cell_type": "markdown",
   "metadata": {},
   "source": [
    "List Comprehension\n",
    "\n",
    "Basic\n",
    "[output expression for iterator variable in iterable]\n",
    "\n",
    "Advanced\n",
    "[output expression + conditional on output for iterator variable in iterable + conditional on iterable]"
   ]
  },
  {
   "cell_type": "code",
   "execution_count": 5,
   "metadata": {},
   "outputs": [],
   "source": [
    "#build a generator function\n",
    "def num_sequence(n): #generator function that when called with the number n produces a generator object that generates \n",
    "    #integers 0 through n\n",
    "    \"\"\"Generate values from 0 to n.\"\"\"\n",
    "    i = 0 #i is initalized to 0 and first time function is called it yields i = 0\n",
    "    while i < n:\n",
    "        yield i\n",
    "        i += 1 #then adds 1 to i and will yield 1 on the next iteration and so on\n",
    "#the while loop is true until i = n and then the generator ceases to yield values"
   ]
  },
  {
   "cell_type": "markdown",
   "metadata": {},
   "source": [
    "Reading a text file\n",
    "\n",
    "    filename = 'huck_finn.txt'  #assign the filename to a variable as a string\n",
    "\n",
    "    file = open(filename, mode = 'r')  #pass filename to function open and also pass argument mode = r which makes sure can only read it, not write to it, if wanted to write then mode = w\n",
    "\n",
    "    text = file.read() #assign the text from the file to a variable text by applying method read to the connection to the file\n",
    "\n",
    "    file.close()  #then close connection to file\n",
    "\n",
    "    print(text)  #to read\n",
    "\n",
    "\n",
    "Or best practice is to use WITH -- then don't have to worry about closing\n",
    "\n",
    "    with open('huck_finn.txt', 'r') as file:\n",
    "\n",
    "        print(file.read())"
   ]
  },
  {
   "cell_type": "markdown",
   "metadata": {},
   "source": [
    "Importing Flat Files Using NumPy\n",
    "\n",
    "    import numpy as np\n",
    "    filename = 'MNIST.txt'\n",
    "    data = np.loadtxt(filename, delimiter=',', dtype=str)  #delimiter can be whitespace too or tab-delimited '\\t' so needs to be specified, dtype is to load it all in as strings (but probably wouldn't want to use for mixed data types)\n",
    "    \n",
    "Often will need to import datasets with different datatypes in different columns, so can use np.genfromtxt() instead and pass dtype=None to figure out what data types each column should be, and names=True means there's a header\n",
    "    \n",
    "    data = np.genfromtxt('titanic.csv', delimiter=',', names=True, dtype=None)"
   ]
  },
  {
   "cell_type": "markdown",
   "metadata": {},
   "source": [
    "Importing Using Pandas -- best practice!\n",
    "\n",
    "    import pandas as pd\n",
    "    filename = 'winequality-red.csv'\n",
    "    data = pd.read_csv(filename)\n",
    "    data.head()\n",
    "    data_array = data.values #if want to convert into numpy array"
   ]
  },
  {
   "cell_type": "markdown",
   "metadata": {},
   "source": [
    "Pickled Files\n",
    "\n",
    "    import pickle\n",
    "    with open('pickled_fruit.pkl', 'rb') as file: #read only & binary file\n",
    "        data = pickle.load(file)\n",
    "    print(data)\n",
    "    ['peaches': 13, 'apples': 4, 'oranges': 11}"
   ]
  },
  {
   "cell_type": "markdown",
   "metadata": {},
   "source": [
    "Importing Excel Spreadsheets\n",
    "\n",
    "    import pandas as pd\n",
    "    file = 'urbanpop.xlsx'\n",
    "    data = pd.ExcelFile(file)\n",
    "    print(data.sheet_names)\n",
    "    ['1960-1966', '1967-1974', '1975-2011']\n",
    "    df1 = data.parse('1960-1966') #sheet name, as string\n",
    "    df2 = data.parse(0) #sheet index, as float\n",
    "    df3 = data.parse(___, skiprows=___, names=___, parse_cols=___) #skips rows, names columns, designates which columns to parse"
   ]
  },
  {
   "cell_type": "markdown",
   "metadata": {},
   "source": [
    "Exploring Current Working Directory\n",
    "\n",
    "    import os          #this imports library os\n",
    "    wd = os.getcwd()   #this stores the name of current directory in string called wd\n",
    "    os.listdir(wd)     #outputs the contents of the directory in a list"
   ]
  },
  {
   "cell_type": "markdown",
   "metadata": {},
   "source": [
    "SAS and Stata Files\n",
    "\n",
    "    SAS: Statistical Analysis Systems    #used in business analytics & biostatistics\n",
    "    Stata: \"Statistics\" + \"data\"         #academic social sciences research\n",
    "\n",
    "\n",
    "Importing SAS Files\n",
    "\n",
    "    import pandas as pd\n",
    "    from sas7bdat import SAS7BDAT\n",
    "    with SAS7BDAT('urbanpop.sas7bdat') as file:\n",
    "        df_sas = file.to_data_frame()\n",
    "\n",
    "\n",
    "Importing Stata Files\n",
    "\n",
    "    import pandas as pd\n",
    "    data = pd.read_stata('urbanpop.dta')\n"
   ]
  },
  {
   "cell_type": "markdown",
   "metadata": {},
   "source": [
    "HDF5 Files\n",
    "\n",
    "    Heirarchical Data Format version 5\n",
    "    Standard for storing large quantities of numeric data\n",
    "    Datasets can be hundreds of gigabytes or terabytes\n",
    "    HDF5 can scale to exabytes\n",
    "\n",
    "Importing HDF5 Files\n",
    "\n",
    "    import h5py\n",
    "    filename = 'H-H1_LOSC_4_V1-815411200-4096.hdf5'\n",
    "    data = h5py.File(filename, 'r')        # 'r' is to read\n",
    "    print(type(data))\n",
    "    <class 'h5py._hl.files.File'>\n",
    "    \n",
    "    for key in data.keys():\n",
    "        print(key)                         # there are three keys, each is an HDF group\n",
    "    meta                                   # meta-data for file, basic info such as GPS times covered\n",
    "    quality                                # refers to data quality\n",
    "    strain                                 # strain data, main measurements\n",
    "    \n",
    "    print(type(data['meta']))\n",
    "    <class 'h5py._hl.group.Group'>\n",
    "    \n",
    "    for key in data['meta'].keys():\n",
    "        print(key)\n",
    "    Description\n",
    "    DescriptionURL\n",
    "    Detector\n",
    "    ...\n",
    "    \n",
    "    print(data['meta']['Description'].value, data['meta']['Detector'].value)"
   ]
  },
  {
   "cell_type": "markdown",
   "metadata": {},
   "source": [
    "MATLAB\n",
    "\n",
    "    \"Matrix Laboratory\"\n",
    "    Industry standard in engineering and science\n",
    "    Powerful linear algebra and matrix capabilities\n",
    "    Data saved as .mat files (use scipy)\n",
    "\n",
    "Importing a .mat file\n",
    "\n",
    "    import scipy.io\n",
    "    filename = 'workspace.mat'\n",
    "    mat = scipy.io.loadmat(filename)\n",
    "    print(type(mat))\n",
    "    <class 'dict'>\n",
    "                    # get a dictionary where\n",
    "                    # keys = MATLAB variable names\n",
    "                    # values = objects assigned to variables\n",
    "    print(type(mat['x']))\n",
    "    <class 'numpy.ndarray'>"
   ]
  },
  {
   "cell_type": "markdown",
   "metadata": {},
   "source": [
    "Introduction to Relational Databases\n",
    "\n",
    "    Tables are linked, ex. orders table with links to employees table and customers table\n",
    "    Call this the \"relational model\" -- widely adopted\n",
    "    Todd's 12 Rules/Commandments (actually consists of 13 rules since zero-indexed!)\n",
    "        Describes what a Relational Database Management System should adhere to to be considered relational\n",
    "        Examples: PostgreSQL, MySQL, SQLite ... all use SQL\n",
    "        SQL = Structured Query Language ... which describes how you communicate with a database in order to both \n",
    "            access and update the information it contains"
   ]
  },
  {
   "cell_type": "markdown",
   "metadata": {},
   "source": [
    "Creating a Database Engine - Example\n",
    "\n",
    "    from sqlalchemy import create_engine                     # use SQLAlchemy package to access SQL database\n",
    "    engine = create_engine('sqlite:///Northwind.sqlite')     # use SQLite database, which is fast and simple\n",
    "    table_names = engine.table_names()                       # to get table names\n",
    "    print(table_names)\n",
    "    ['Categories', 'Customers', 'EmployeeTerritories', 'Employees']\n",
    "                                Note: 'sqlite:///Northwind.sqlite' is called the connection string to the SQLite \n",
    "                                Database called Northwind.sqlite"
   ]
  },
  {
   "cell_type": "markdown",
   "metadata": {},
   "source": [
    "Querying Relational Databases in Python\n",
    "\n",
    "    Basic SQL query\n",
    "    \n",
    "    SELECT * FROM Table_Name                                 # this returns all columns of all rows of the table\n",
    "    \n",
    "    Workflow of SQL querying\n",
    "        - import packages & functions\n",
    "        - create the database engine\n",
    "        - connect to the engine\n",
    "        - query the database\n",
    "        - save query results to a DataFrame\n",
    "        - close the connection\n",
    "\n",
    "    from sqlalchemy import create_engine\n",
    "    import pandas as pd\n",
    "    engine = create_engine('sqlite:///Northwind.sqlite')     # create the engine\n",
    "    con = engine.connect()                                   # create the connection object con\n",
    "    rs = con.execute(\"SELECT * FROM Orders\")                 # to query the database\n",
    "    df = pd.DataFrame(rs.fetchall())                         # turns it into a DataFrame, fetchall fetches all rows\n",
    "    df.columns = rs.keys()                                   # this sets the DataFrame column names\n",
    "    con.close()                                              # close the connection, don't forget!\n",
    "    \n",
    "    Can also use the context manager so don't have to worry about closing a connection\n",
    "        from sqlalchemy import create_engine\n",
    "        import pandas as pd\n",
    "        engine = create_engine('sqlite:///Northwind.sqlite')\n",
    "        with engine.connect() as con:\n",
    "            rs = con.execute(\"SELECT OrderID, OrderDate, ShipName FROM Orders\")  # no *(means select all columns)\n",
    "            df = pd.DataFrame(rs.fetchmany(size = 5))        # instead of fetchall, imports 5 rows\n",
    "            df.columns = rs.keys()\n",
    "    \n",
    "    Can also do this with one line of code:\n",
    "        df = pd.read_sql_query(\"SELECT * FROM Orders\", engine)\n",
    "    \n",
    "    Using INNER JOIN in Python(pandas)\n",
    "        from sqlalchemy import create_engine\n",
    "        import pandas as pd\n",
    "        engine = create_engine('sqlite:///Northwind.sqlite')\n",
    "        df = pd.read_sql_query(\"SELECT OrderID, CompanyName FROM Orders INNER JOIN Customers on Orders.CustomerID = \n",
    "        Customers.CustomerID\", engine)\n",
    "        print(df.head())\n",
    "    "
   ]
  },
  {
   "cell_type": "markdown",
   "metadata": {},
   "source": [
    "### DATA SCIENCE TOOLBOX - FUNCTIONS"
   ]
  },
  {
   "cell_type": "code",
   "execution_count": 6,
   "metadata": {},
   "outputs": [
    {
     "name": "stdout",
     "output_type": "stream",
     "text": [
      "16\n"
     ]
    }
   ],
   "source": [
    "# defining a function\n",
    "def testsquare():                    # the function header\n",
    "    new_value = 4 ** 2               # the function body (indented)\n",
    "    print(new_value)\n",
    "testsquare()"
   ]
  },
  {
   "cell_type": "code",
   "execution_count": 7,
   "metadata": {},
   "outputs": [
    {
     "name": "stdout",
     "output_type": "stream",
     "text": [
      "9\n",
      "16\n",
      "25\n"
     ]
    }
   ],
   "source": [
    "# function parameters\n",
    "def newtestsquare(value):\n",
    "    new_value = value ** 2\n",
    "    print(new_value)\n",
    "newtestsquare(3)\n",
    "newtestsquare(4)\n",
    "newtestsquare(5)"
   ]
  },
  {
   "cell_type": "code",
   "execution_count": 8,
   "metadata": {},
   "outputs": [
    {
     "name": "stdout",
     "output_type": "stream",
     "text": [
      "16\n"
     ]
    }
   ],
   "source": [
    "# return a value from a function using return\n",
    "def othertestsquare(value):\n",
    "    \"\"\"Return the square of a value.\"\"\"    # the docstring; describes what function does, serves as documentation\n",
    "    new_value = value ** 2\n",
    "    return new_value\n",
    "num = othertestsquare(4)\n",
    "print(num)"
   ]
  },
  {
   "cell_type": "code",
   "execution_count": 9,
   "metadata": {},
   "outputs": [
    {
     "name": "stdout",
     "output_type": "stream",
     "text": [
      "congratulations!!!\n"
     ]
    }
   ],
   "source": [
    "# define shout with the parameter, word\n",
    "def shout(word):\n",
    "    \"\"\"Print a string with three exclamation marks\"\"\"\n",
    "    # concatenate the strings: shout_word\n",
    "    shout_word = word + '!!!'\n",
    "    # print shout_word\n",
    "    print(shout_word)\n",
    "# call shout with the string 'congratulations\n",
    "shout('congratulations')"
   ]
  },
  {
   "cell_type": "code",
   "execution_count": 11,
   "metadata": {},
   "outputs": [
    {
     "name": "stdout",
     "output_type": "stream",
     "text": [
      "congratulations!!!\n"
     ]
    }
   ],
   "source": [
    "# define shout with the parameter, word\n",
    "def shout(word):\n",
    "    \"\"\"Return a string with three exclamation marks\"\"\"\n",
    "    # concatenate the strings: shout_word\n",
    "    shout_word = word + '!!!'\n",
    "    # replace print with return\n",
    "    return(shout_word)\n",
    "# pass 'congratulations' to shout: yell\n",
    "yell = shout('congratulations')\n",
    "\n",
    "# print yell\n",
    "print(yell)"
   ]
  },
  {
   "cell_type": "code",
   "execution_count": 12,
   "metadata": {},
   "outputs": [
    {
     "name": "stdout",
     "output_type": "stream",
     "text": [
      "8\n"
     ]
    }
   ],
   "source": [
    "# multiple function parameters\n",
    "def raise_to_power(value1, value2):\n",
    "    \"\"\"Raise value1 to the power of value2.\"\"\"\n",
    "    new_value = value1 ** value2\n",
    "    return new_value\n",
    "# then call the function with 2 arguments bc there are 2 parameters\n",
    "result = raise_to_power(2,3)\n",
    "print(result)"
   ]
  },
  {
   "cell_type": "code",
   "execution_count": 13,
   "metadata": {},
   "outputs": [
    {
     "name": "stdout",
     "output_type": "stream",
     "text": [
      "<class 'tuple'>\n"
     ]
    }
   ],
   "source": [
    "# make functions return multiple values: tuples!\n",
    "# tuples: like a list(can contain multiple values, immutable -- can't modify values!)\n",
    "even_nums = (2, 4, 6) # tuples always have parentheses\n",
    "print(type(even_nums))"
   ]
  },
  {
   "cell_type": "code",
   "execution_count": 14,
   "metadata": {},
   "outputs": [
    {
     "name": "stdout",
     "output_type": "stream",
     "text": [
      "2\n",
      "4\n",
      "6\n"
     ]
    }
   ],
   "source": [
    "# unpacking tuples! ... into several variables\n",
    "even_nums = (2, 4, 6)\n",
    "a, b, c = even_nums\n",
    "print(a)\n",
    "print(b)\n",
    "print(c)"
   ]
  },
  {
   "cell_type": "code",
   "execution_count": 15,
   "metadata": {},
   "outputs": [
    {
     "name": "stdout",
     "output_type": "stream",
     "text": [
      "4\n",
      "6\n"
     ]
    }
   ],
   "source": [
    "# can also access tuple elements like with a list\n",
    "even_nums = (2, 4, 6)\n",
    "print(even_nums[1])\n",
    "third_num = even_nums[2]\n",
    "print(third_num)"
   ]
  },
  {
   "cell_type": "code",
   "execution_count": 16,
   "metadata": {},
   "outputs": [
    {
     "name": "stdout",
     "output_type": "stream",
     "text": [
      "(8, 9)\n"
     ]
    }
   ],
   "source": [
    "# let's now return multiple values\n",
    "def raise_both_nums(value1, value2):\n",
    "    \"\"\"Raise value1 to the power of value2 and vice versa.\"\"\"\n",
    "    \n",
    "    new_value1 = value1 ** value2\n",
    "    new_value2 = value2 ** value1\n",
    "    \n",
    "    new_tuple = (new_value1, new_value2)\n",
    "    \n",
    "    return new_tuple\n",
    "\n",
    "result = raise_both_nums(2,3)\n",
    "print(result)"
   ]
  },
  {
   "cell_type": "code",
   "execution_count": 17,
   "metadata": {},
   "outputs": [
    {
     "name": "stdout",
     "output_type": "stream",
     "text": [
      "congratulations!!!\n",
      "you!!!\n"
     ]
    }
   ],
   "source": [
    "# define shout_all with parameters word1 and word2\n",
    "def shout_all(word1, word2):\n",
    "    \n",
    "    # concatenate word1 with '!!!': shout1\n",
    "    shout1 = word1 + '!!!'\n",
    "    \n",
    "    # concatenate word2 with '!!!': shout2\n",
    "    shout2 = word2 + '!!!'\n",
    "    \n",
    "    # construct a tuple with shout1 and shout2: shout_words\n",
    "    shout_words = shout1, shout2\n",
    "    \n",
    "    # return shout_words\n",
    "    return shout_words\n",
    "\n",
    "# pass 'congratulations' and 'you' to shout_all(): yell1, yell2\n",
    "yell1, yell2 = shout_all('congratulations', 'you')\n",
    "\n",
    "# print yell1 and yell2\n",
    "print(yell1)\n",
    "print(yell2)\n",
    "    "
   ]
  },
  {
   "cell_type": "code",
   "execution_count": 18,
   "metadata": {},
   "outputs": [
    {
     "data": {
      "text/plain": [
       "27"
      ]
     },
     "execution_count": 18,
     "metadata": {},
     "output_type": "execute_result"
    }
   ],
   "source": [
    "# crash course on scope in functions\n",
    "# scope - part of the program where an object or name may be accessible\n",
    "\n",
    "new_val = 10                # global scope - defined in the main body of a script\n",
    "\n",
    "def cubed(value):\n",
    "    \"\"\"Returns the cube of a number.\"\"\"\n",
    "    new_val = value ** 3    # local scope - defined inside a function\n",
    "    return new_val\n",
    "\n",
    "cubed(3)\n",
    " \n",
    "# first look into local scope, then global, then built-in(like print)\n",
    "# built-in scope - names in the pre-defined built-ins module"
   ]
  },
  {
   "cell_type": "code",
   "execution_count": 19,
   "metadata": {},
   "outputs": [
    {
     "data": {
      "text/plain": [
       "10"
      ]
     },
     "execution_count": 19,
     "metadata": {},
     "output_type": "execute_result"
    }
   ],
   "source": [
    "new_val"
   ]
  },
  {
   "cell_type": "code",
   "execution_count": 20,
   "metadata": {},
   "outputs": [
    {
     "name": "stdout",
     "output_type": "stream",
     "text": [
      "(6, 5, 6)\n"
     ]
    }
   ],
   "source": [
    "# nested functions\n",
    "\n",
    "def mod2plus5(x1, x2, x3):\n",
    "    \"\"\"Returns the remainder plus 5 of three values.\"\"\"\n",
    "    \n",
    "    def inner(x):\n",
    "        \"\"\"Returns the remainder plus 5 of a value.\"\"\"\n",
    "        return x % 2 + 5\n",
    "    \n",
    "    return (inner(x1), inner(x2), inner(x3))\n",
    "\n",
    "print(mod2plus5(1, 2, 3))"
   ]
  },
  {
   "cell_type": "markdown",
   "metadata": {},
   "source": [
    "## Introduction to Web Scraping"
   ]
  },
  {
   "cell_type": "markdown",
   "metadata": {},
   "source": [
    "Learn how to\n",
    "    - import and locally save datasets from the web\n",
    "    - load datasets into pandas DataFrames\n",
    "    - make HTTP requests (GET requests)\n",
    "    - scrape web data such as HTML\n",
    "    - parse HTML into useful data (BeautifulSoup)\n",
    "    - use the urllib and requests packages\n",
    "\n",
    "The urllib package\n",
    "    - provides interface for fetching data across the web\n",
    "    - urlopen() -- accepts URLs instead of file names\n",
    "\n",
    "How to automate file download\n",
    "\n",
    "    from urllib.request import urlretrieve   # import function urlretrieve from request subpackage of urllib package\n",
    "    url = 'http://archive.ics.uci.edu/ml/machine-learning-databases/wine-quality/winequality-white.csv'   \n",
    "                                             # assign relevant url as a string to the variable url\n",
    "    urlretrive(url, 'winequality-white.csv') # use urlretrieve function to write contents of the url to a file\n",
    "    out: ('winequality-white.csv', <http.client.HTTPMessage at 0x103cf1128>)"
   ]
  },
  {
   "cell_type": "code",
   "execution_count": 21,
   "metadata": {},
   "outputs": [
    {
     "name": "stdout",
     "output_type": "stream",
     "text": [
      "   fixed acidity  volatile acidity  citric acid  residual sugar  chlorides  \\\n",
      "0            7.4              0.70         0.00             1.9      0.076   \n",
      "1            7.8              0.88         0.00             2.6      0.098   \n",
      "2            7.8              0.76         0.04             2.3      0.092   \n",
      "3           11.2              0.28         0.56             1.9      0.075   \n",
      "4            7.4              0.70         0.00             1.9      0.076   \n",
      "\n",
      "   free sulfur dioxide  total sulfur dioxide  density    pH  sulphates  \\\n",
      "0                 11.0                  34.0   0.9978  3.51       0.56   \n",
      "1                 25.0                  67.0   0.9968  3.20       0.68   \n",
      "2                 15.0                  54.0   0.9970  3.26       0.65   \n",
      "3                 17.0                  60.0   0.9980  3.16       0.58   \n",
      "4                 11.0                  34.0   0.9978  3.51       0.56   \n",
      "\n",
      "   alcohol  quality  \n",
      "0      9.4        5  \n",
      "1      9.8        5  \n",
      "2      9.8        5  \n",
      "3      9.8        6  \n",
      "4      9.4        5  \n"
     ]
    }
   ],
   "source": [
    "# practice from datacamp using red wine file\n",
    "from urllib.request import urlretrieve              \n",
    "import pandas as pd\n",
    "\n",
    "url = 'https://s3.amazonaws.com/assets.datacamp.com/production/course_1606/datasets/winequality-red.csv'\n",
    "urlretrieve(url, 'winequality-red.csv')      # save file locally\n",
    "\n",
    "df_rwine = pd.read_csv('winequality-red.csv', sep=';')\n",
    "print(df_rwine.head())\n"
   ]
  },
  {
   "cell_type": "code",
   "execution_count": 26,
   "metadata": {},
   "outputs": [
    {
     "data": {
      "image/png": "[encoded data removed]",
      "text/plain": [
       "<matplotlib.figure.Figure at 0x11364aa20>"
      ]
     },
     "metadata": {},
     "output_type": "display_data"
    }
   ],
   "source": [
    "# plot first column of df\n",
    "import matplotlib.pyplot as plt\n",
    "\n",
    "pd.DataFrame.hist(df_rwine.iloc[:, 0:1])\n",
    "plt.xlabel('fixed acidity (g(tartaric acid)/dm$^3$)')\n",
    "plt.ylabel('count')\n",
    "plt.show()"
   ]
  },
  {
   "cell_type": "code",
   "execution_count": 30,
   "metadata": {},
   "outputs": [
    {
     "name": "stdout",
     "output_type": "stream",
     "text": [
      "odict_keys(['1700', '1900'])\n"
     ]
    }
   ],
   "source": [
    "# importing nonflat files from the web, excel example\n",
    "# get python dictionary with sheet names as keys and corresponding DataFrames as corresponding values\n",
    "\n",
    "url = 'http://s3.amazonaws.com/assets.datacamp.com/course/importing_data_into_r/latitude.xls'\n",
    "\n",
    "xl = pd.read_excel(url, sheet_name=None)\n",
    "\n",
    "print(xl.keys())   # prints sheetnames"
   ]
  },
  {
   "cell_type": "code",
   "execution_count": 31,
   "metadata": {},
   "outputs": [
    {
     "name": "stdout",
     "output_type": "stream",
     "text": [
      "                 country       1700\n",
      "0            Afghanistan  34.565000\n",
      "1  Akrotiri and Dhekelia  34.616667\n",
      "2                Albania  41.312000\n",
      "3                Algeria  36.720000\n",
      "4         American Samoa -14.307000\n"
     ]
    }
   ],
   "source": [
    "# print head of first sheet\n",
    "print(xl['1700'].head())"
   ]
  },
  {
   "cell_type": "markdown",
   "metadata": {},
   "source": [
    "HTTP requests to import files from the web\n",
    "\n",
    "    URL = Uniform/Universal Resource Locator\n",
    "    Two Ingredients of URL\n",
    "        - protocol identifier such as http: or https\n",
    "        - resource name such as datacamp.com\n",
    "    \n",
    "    HTTP = HyperText Transfer Protocol, foundation of data communication for the web\n",
    "    HTTPS = more secure form of HTTP\n",
    "    \n",
    "    Each time go to a website, actually sending a HTTP request to a server and this request is known as GET request\n",
    "        - urlretrieve() performs a GET request\n",
    "        - use it get HTML data\n",
    "        - HTML = HyperText Markup Language\n",
    "        \n",
    "    from urllib.request import urlopen, Request\n",
    "    url = \"https://www.wikipedia.org/\"\n",
    "    request = Request(url)              # package GET request using Request()\n",
    "    response = urlopen(request)         # send request and catch response using urlopen()\n",
    "    html = response.read()              # apply read() to response to return HTML as string and store in variable html\n",
    "    response.close()                    # then close response\n",
    "    "
   ]
  },
  {
   "cell_type": "markdown",
   "metadata": {},
   "source": [
    "GET requests using request\n",
    "\n",
    "    import requests\n",
    "    url = \"http://www.wikipedia.org/\"\n",
    "    r = requests.get(url)               # send the request and catch the response\n",
    "    text = r.text                       # apply text method to response which returns HTML as string"
   ]
  },
  {
   "cell_type": "code",
   "execution_count": 32,
   "metadata": {},
   "outputs": [
    {
     "name": "stdout",
     "output_type": "stream",
     "text": [
      "<class 'http.client.HTTPResponse'>\n"
     ]
    }
   ],
   "source": [
    "from urllib.request import urlopen, Request\n",
    "\n",
    "url = \"http://www.datacamp.com/teach/documentation\"\n",
    "\n",
    "request = Request(url)                 # this packages the request\n",
    "response = urlopen(request)            # sends the request and catches the response\n",
    "\n",
    "print(type(response))                  # print datatype of response\n",
    "\n",
    "response.close()                       # polite to close response!"
   ]
  },
  {
   "cell_type": "markdown",
   "metadata": {},
   "source": [
    "## Scraping the Web in Python"
   ]
  },
  {
   "cell_type": "markdown",
   "metadata": {},
   "source": [
    "Beautiful Soup\n",
    "\n",
    "    - parse and extract structured data from HTML\n",
    "    - make tag soup (structurally or syntactically incorrect html code) beautiful and extract information\n",
    "    \n",
    "    from bs4 import BeautifulSoup\n",
    "    import requests\n",
    "    url = 'https://www.crummy.com/software/BeautifulSoup/'\n",
    "    r = requests.get(url)\n",
    "    html_doc = r.text\n",
    "    soup = BeautifulSoup(html_doc)     # create beautifulsoup object from resulting html then prettify it\n",
    "    print(soup.prettify())             # prettified is indented in way would expect properly written html to be\n",
    "    \n",
    "\n",
    "Exploring Beautiful Soup\n",
    "    \n",
    "    print(soup.title)                  # extracts title\n",
    "    print(soup.get_text())             # extracts text\n",
    "    \n",
    "    for link in soup.find_all('a'):    # extracts url's of all the hyperlinks in the html\n",
    "        print(link.get('href'))"
   ]
  },
  {
   "cell_type": "code",
   "execution_count": 34,
   "metadata": {},
   "outputs": [
    {
     "name": "stdout",
     "output_type": "stream",
     "text": [
      "<html>\n",
      " <head>\n",
      "  <title>\n",
      "   Guido's Personal Home Page\n",
      "  </title>\n",
      " </head>\n",
      " <body bgcolor=\"#FFFFFF\" text=\"#000000\">\n",
      "  <h1>\n",
      "   <a href=\"pics.html\">\n",
      "    <img border=\"0\" src=\"images/IMG_2192.jpg\"/>\n",
      "   </a>\n",
      "   Guido van Rossum - Personal Home Page\n",
      "  </h1>\n",
      "  <p>\n",
      "   <a href=\"http://www.washingtonpost.com/wp-srv/business/longterm/microsoft/stories/1998/raymond120398.htm\">\n",
      "    <i>\n",
      "     \"Gawky and proud of it.\"\n",
      "    </i>\n",
      "   </a>\n",
      "  </p>\n",
      "  <h3>\n",
      "   <a href=\"http://metalab.unc.edu/Dave/Dr-Fun/df200004/df20000406.jpg\">\n",
      "    Who\n",
      "I Am\n",
      "   </a>\n",
      "  </h3>\n",
      "  <p>\n",
      "   Read\n",
      "my\n",
      "   <a href=\"http://neopythonic.blogspot.com/2016/04/kings-day-speech.html\">\n",
      "    \"King's\n",
      "Day Speech\"\n",
      "   </a>\n",
      "   for some inspiration.\n",
      "  </p>\n",
      "  <p>\n",
      "   I am the author of the\n",
      "   <a href=\"http://www.python.org\">\n",
      "    Python\n",
      "   </a>\n",
      "   programming language.  See also my\n",
      "   <a href=\"Resume.html\">\n",
      "    resume\n",
      "   </a>\n",
      "   and my\n",
      "   <a href=\"Publications.html\">\n",
      "    publications list\n",
      "   </a>\n",
      "   , a\n",
      "   <a href=\"bio.html\">\n",
      "    brief bio\n",
      "   </a>\n",
      "   , assorted\n",
      "   <a href=\"http://legacy.python.org/doc/essays/\">\n",
      "    writings\n",
      "   </a>\n",
      "   ,\n",
      "   <a href=\"http://legacy.python.org/doc/essays/ppt/\">\n",
      "    presentations\n",
      "   </a>\n",
      "   and\n",
      "   <a href=\"interviews.html\">\n",
      "    interviews\n",
      "   </a>\n",
      "   (all about Python), some\n",
      "   <a href=\"pics.html\">\n",
      "    pictures of me\n",
      "   </a>\n",
      "   ,\n",
      "   <a href=\"http://neopythonic.blogspot.com\">\n",
      "    my new blog\n",
      "   </a>\n",
      "   , and\n",
      "my\n",
      "   <a href=\"http://www.artima.com/weblogs/index.jsp?blogger=12088\">\n",
      "    old\n",
      "blog\n",
      "   </a>\n",
      "   on Artima.com.  I am\n",
      "   <a href=\"https://twitter.com/gvanrossum\">\n",
      "    @gvanrossum\n",
      "   </a>\n",
      "   on Twitter.  I\n",
      "also have\n",
      "a\n",
      "   <a href=\"https://plus.google.com/u/0/115212051037621986145/posts\">\n",
      "    G+\n",
      "profile\n",
      "   </a>\n",
      "   .\n",
      "  </p>\n",
      "  <p>\n",
      "   In January 2013 I joined\n",
      "   <a href=\"http://www.dropbox.com\">\n",
      "    Dropbox\n",
      "   </a>\n",
      "   .  I work on various Dropbox\n",
      "products and have 50% for my Python work, no strings attached.\n",
      "Previously, I have worked for Google, Elemental Security, Zope\n",
      "Corporation, BeOpen.com, CNRI, CWI, and SARA.  (See\n",
      "my\n",
      "   <a href=\"Resume.html\">\n",
      "    resume\n",
      "   </a>\n",
      "   .)  I created Python while at CWI.\n",
      "  </p>\n",
      "  <h3>\n",
      "   How to Reach Me\n",
      "  </h3>\n",
      "  <p>\n",
      "   You can send email for me to guido (at) python.org.\n",
      "I read everything sent there, but if you ask\n",
      "me a question about using Python, it's likely that I won't have time\n",
      "to answer it, and will instead refer you to\n",
      "help (at) python.org,\n",
      "   <a href=\"http://groups.google.com/groups?q=comp.lang.python\">\n",
      "    comp.lang.python\n",
      "   </a>\n",
      "   or\n",
      "   <a href=\"http://stackoverflow.com\">\n",
      "    StackOverflow\n",
      "   </a>\n",
      "   .  If you need to\n",
      "talk to me on the phone or send me something by snail mail, send me an\n",
      "email and I'll gladly email you instructions on how to reach me.\n",
      "  </p>\n",
      "  <h3>\n",
      "   My Name\n",
      "  </h3>\n",
      "  <p>\n",
      "   My name often poses difficulties for Americans.\n",
      "  </p>\n",
      "  <p>\n",
      "   <b>\n",
      "    Pronunciation:\n",
      "   </b>\n",
      "   in Dutch, the \"G\" in Guido is a hard G,\n",
      "pronounced roughly like the \"ch\" in Scottish \"loch\".  (Listen to the\n",
      "   <a href=\"guido.au\">\n",
      "    sound clip\n",
      "   </a>\n",
      "   .)  However, if you're\n",
      "American, you may also pronounce it as the Italian \"Guido\".  I'm not\n",
      "too worried about the associations with mob assassins that some people\n",
      "have. :-)\n",
      "  </p>\n",
      "  <p>\n",
      "   <b>\n",
      "    Spelling:\n",
      "   </b>\n",
      "   my last name is two words, and I'd like to keep it\n",
      "that way, the spelling on some of my credit cards notwithstanding.\n",
      "Dutch spelling rules dictate that when used in combination with my\n",
      "first name, \"van\" is not capitalized: \"Guido van Rossum\".  But when my\n",
      "last name is used alone to refer to me, it is capitalized, for\n",
      "example: \"As usual, Van Rossum was right.\"\n",
      "  </p>\n",
      "  <p>\n",
      "   <b>\n",
      "    Alphabetization:\n",
      "   </b>\n",
      "   in America, I show up in the alphabet under\n",
      "\"V\".  But in Europe, I show up under \"R\".  And some of my friends put\n",
      "me under \"G\" in their address book...\n",
      "  </p>\n",
      "  <h3>\n",
      "   More Hyperlinks\n",
      "  </h3>\n",
      "  <ul>\n",
      "   <li>\n",
      "    Here's a collection of\n",
      "    <a href=\"http://legacy.python.org/doc/essays/\">\n",
      "     essays\n",
      "    </a>\n",
      "    relating to Python\n",
      "that I've written, including the foreword I wrote for Mark Lutz' book\n",
      "\"Programming Python\".\n",
      "    <p>\n",
      "    </p>\n",
      "   </li>\n",
      "   <li>\n",
      "    I own the official\n",
      "    <a href=\"images/license.jpg\">\n",
      "     <img align=\"center\" border=\"0\" height=\"75\" src=\"images/license_thumb.jpg\" width=\"100\"/>\n",
      "     Python license.\n",
      "    </a>\n",
      "    <p>\n",
      "    </p>\n",
      "   </li>\n",
      "  </ul>\n",
      "  <h3>\n",
      "   The Audio File Formats FAQ\n",
      "  </h3>\n",
      "  <p>\n",
      "   I was the original creator and maintainer of the Audio File Formats\n",
      "FAQ.  It is now maintained by Chris Bagwell\n",
      "at\n",
      "   <a href=\"http://www.cnpbagwell.com/audio-faq\">\n",
      "    http://www.cnpbagwell.com/audio-faq\n",
      "   </a>\n",
      "   .  And here is a link to\n",
      "   <a href=\"http://sox.sourceforge.net/\">\n",
      "    SOX\n",
      "   </a>\n",
      "   , to which I contributed\n",
      "some early code.\n",
      "  </p>\n",
      "  <hr/>\n",
      "  <a href=\"images/internetdog.gif\">\n",
      "   \"On the Internet, nobody knows you're\n",
      "a dog.\"\n",
      "  </a>\n",
      "  <hr/>\n",
      " </body>\n",
      "</html>\n"
     ]
    }
   ],
   "source": [
    "import requests\n",
    "from bs4 import BeautifulSoup\n",
    "\n",
    "url = 'https://www.python.org/~guido/'\n",
    "r = requests.get(url)                 # package request, send request and catch response r\n",
    "html_doc = r.text                     # extracts the response as html\n",
    "\n",
    "soup = BeautifulSoup(html_doc, \"lxml\")        # create BeautifulSoup object from HTML\n",
    "pretty_soup = soup.prettify()         # prettify the BeautifulSoup object\n",
    "\n",
    "print(pretty_soup)                    # print the response"
   ]
  },
  {
   "cell_type": "code",
   "execution_count": 36,
   "metadata": {},
   "outputs": [
    {
     "name": "stdout",
     "output_type": "stream",
     "text": [
      "<title>Guido's Personal Home Page</title>\n",
      "\n",
      "\n",
      "Guido's Personal Home Page\n",
      "\n",
      "\n",
      "\n",
      "\n",
      "Guido van Rossum - Personal Home Page\n",
      "\"Gawky and proud of it.\"\n",
      "Who\n",
      "I Am\n",
      "Read\n",
      "my \"King's\n",
      "Day Speech\" for some inspiration.\n",
      "\n",
      "I am the author of the Python\n",
      "programming language.  See also my resume\n",
      "and my publications list, a brief bio, assorted writings, presentations and interviews (all about Python), some\n",
      "pictures of me,\n",
      "my new blog, and\n",
      "my old\n",
      "blog on Artima.com.  I am\n",
      "@gvanrossum on Twitter.  I\n",
      "also have\n",
      "a G+\n",
      "profile.\n",
      "\n",
      "In January 2013 I joined\n",
      "Dropbox.  I work on various Dropbox\n",
      "products and have 50% for my Python work, no strings attached.\n",
      "Previously, I have worked for Google, Elemental Security, Zope\n",
      "Corporation, BeOpen.com, CNRI, CWI, and SARA.  (See\n",
      "my resume.)  I created Python while at CWI.\n",
      "\n",
      "How to Reach Me\n",
      "You can send email for me to guido (at) python.org.\n",
      "I read everything sent there, but if you ask\n",
      "me a question about using Python, it's likely that I won't have time\n",
      "to answer it, and will instead refer you to\n",
      "help (at) python.org,\n",
      "comp.lang.python or\n",
      "StackOverflow.  If you need to\n",
      "talk to me on the phone or send me something by snail mail, send me an\n",
      "email and I'll gladly email you instructions on how to reach me.\n",
      "\n",
      "My Name\n",
      "My name often poses difficulties for Americans.\n",
      "\n",
      "Pronunciation: in Dutch, the \"G\" in Guido is a hard G,\n",
      "pronounced roughly like the \"ch\" in Scottish \"loch\".  (Listen to the\n",
      "sound clip.)  However, if you're\n",
      "American, you may also pronounce it as the Italian \"Guido\".  I'm not\n",
      "too worried about the associations with mob assassins that some people\n",
      "have. :-)\n",
      "\n",
      "Spelling: my last name is two words, and I'd like to keep it\n",
      "that way, the spelling on some of my credit cards notwithstanding.\n",
      "Dutch spelling rules dictate that when used in combination with my\n",
      "first name, \"van\" is not capitalized: \"Guido van Rossum\".  But when my\n",
      "last name is used alone to refer to me, it is capitalized, for\n",
      "example: \"As usual, Van Rossum was right.\"\n",
      "\n",
      "Alphabetization: in America, I show up in the alphabet under\n",
      "\"V\".  But in Europe, I show up under \"R\".  And some of my friends put\n",
      "me under \"G\" in their address book...\n",
      "\n",
      "\n",
      "More Hyperlinks\n",
      "\n",
      "Here's a collection of essays relating to Python\n",
      "that I've written, including the foreword I wrote for Mark Lutz' book\n",
      "\"Programming Python\".\n",
      "I own the official \n",
      "Python license.\n",
      "\n",
      "The Audio File Formats FAQ\n",
      "I was the original creator and maintainer of the Audio File Formats\n",
      "FAQ.  It is now maintained by Chris Bagwell\n",
      "at http://www.cnpbagwell.com/audio-faq.  And here is a link to\n",
      "SOX, to which I contributed\n",
      "some early code.\n",
      "\n",
      "\n",
      "\n",
      "\n",
      "\"On the Internet, nobody knows you're\n",
      "a dog.\"\n",
      "\n",
      "\n",
      "\n"
     ]
    }
   ],
   "source": [
    "guido_title = soup.title              # get title of webpage\n",
    "guido_text = soup.get_text()          # get text of webpage\n",
    "\n",
    "print(guido_title)\n",
    "print(guido_text)"
   ]
  },
  {
   "cell_type": "code",
   "execution_count": 37,
   "metadata": {},
   "outputs": [
    {
     "name": "stdout",
     "output_type": "stream",
     "text": [
      "pics.html\n",
      "http://www.washingtonpost.com/wp-srv/business/longterm/microsoft/stories/1998/raymond120398.htm\n",
      "http://metalab.unc.edu/Dave/Dr-Fun/df200004/df20000406.jpg\n",
      "http://neopythonic.blogspot.com/2016/04/kings-day-speech.html\n",
      "http://www.python.org\n",
      "Resume.html\n",
      "Publications.html\n",
      "bio.html\n",
      "http://legacy.python.org/doc/essays/\n",
      "http://legacy.python.org/doc/essays/ppt/\n",
      "interviews.html\n",
      "pics.html\n",
      "http://neopythonic.blogspot.com\n",
      "http://www.artima.com/weblogs/index.jsp?blogger=12088\n",
      "https://twitter.com/gvanrossum\n",
      "https://plus.google.com/u/0/115212051037621986145/posts\n",
      "http://www.dropbox.com\n",
      "Resume.html\n",
      "http://groups.google.com/groups?q=comp.lang.python\n",
      "http://stackoverflow.com\n",
      "guido.au\n",
      "http://legacy.python.org/doc/essays/\n",
      "images/license.jpg\n",
      "http://www.cnpbagwell.com/audio-faq\n",
      "http://sox.sourceforge.net/\n",
      "images/internetdog.gif\n"
     ]
    }
   ],
   "source": [
    "# find all 'a' tags (which define hyperlinks)\n",
    "a_tags = soup.find_all('a')\n",
    "\n",
    "for link in a_tags:\n",
    "    print(link.get('href'))"
   ]
  },
  {
   "cell_type": "markdown",
   "metadata": {},
   "source": [
    "# Introduction to APIs and JSONs\n",
    "\n",
    "### APIs - Application Programming Interface\n",
    "    - set of protocols and routines for building and interacting with software applications\n",
    "    - we'll use OMDb API (The Open Movie Database) and Twitter API to pull data from both applications\n",
    "\n",
    "### JSONs - JavaScript Object Notation\n",
    "    - file format used as standard form for transfering data through APIs\n",
    "    - real-time server-to-browser communication\n",
    "    - when loading JSONs into python, natural to store them into dict\n",
    "        - keys will always be strings\n",
    "        - values can be strings, integers, arrays, or objects (object could even be JSON, then have nested JSONs) \n",
    "\n",
    "Loading JSONs in Python\n",
    "\n",
    "    import json\n",
    "    with open('snakes.json', 'r') as json_file:\n",
    "        json_data = json.load(json_file)\n",
    "    \n",
    "    type(json_data)\n",
    "        <output: dict>                          # python imports it as dictionary\n",
    "    \n",
    "    for key, value in json_data.items():        # will print key-value pairs to console\n",
    "        print(key + ':', value)\n",
    "    \n",
    "    for k in json_data.keys():\n",
    "        print(k + ':', json_data[k]             # another way to print key-value pairs\n",
    "                                                # recall that to access value in dict use syntax dictionary[key]"
   ]
  },
  {
   "cell_type": "markdown",
   "metadata": {},
   "source": [
    "### APIs and Interacting with the World Wide Web\n",
    "\n",
    "API - bunch of code that allows two software programs to communicate with each other\n",
    "    - example, if wanted to stream Twitter data, would use Twitter API\n",
    "\n",
    "Connecting to an API in Python\n",
    "\n",
    "    import requests\n",
    "    url = 'http://www.omdbapi.com/?t=hackers'\n",
    "    r = requests.get(url)\n",
    "    json_data = r.json()                       \n",
    "    \n",
    "    # cool aspect of requests package is that response object r has associated method json which is json decoder for when dealing with json data\n",
    "    \n",
    "    for key, value in json_data.items():\n",
    "        print(key + ':', value)\n",
    "        \n",
    "What was that URL?\n",
    "    \n",
    "    http - making an http request\n",
    "    www.omdbapi.com - querying the OMDb API\n",
    "    ?t=hackers\n",
    "        - this string that begins with ? is a Query String\n",
    "        - Query Strings are parts of URLs that don't fit into conventional heirarchical path structure\n",
    "        - what follows ? in Query String is the query we are making to OMDb API\n",
    "        - t=hackers returns data for a movie with title (t) 'Hackers'\n",
    "        - we knew this was how to perform such a query from the documentation on the OMDb API's home page"
   ]
  },
  {
   "cell_type": "code",
   "execution_count": 38,
   "metadata": {},
   "outputs": [
    {
     "name": "stdout",
     "output_type": "stream",
     "text": [
      "{\"Title\":\"The Social Network\",\"Year\":\"2010\",\"Rated\":\"PG-13\",\"Released\":\"01 Oct 2010\",\"Runtime\":\"120 min\",\"Genre\":\"Biography, Drama\",\"Director\":\"David Fincher\",\"Writer\":\"Aaron Sorkin (screenplay), Ben Mezrich (book)\",\"Actors\":\"Jesse Eisenberg, Rooney Mara, Bryan Barter, Dustin Fitzsimons\",\"Plot\":\"Harvard student Mark Zuckerberg creates the social networking site that would become known as Facebook, but is later sued by two brothers who claimed he stole their idea, and the co-founder who was later squeezed out of the business.\",\"Language\":\"English, French\",\"Country\":\"USA\",\"Awards\":\"Won 3 Oscars. Another 165 wins & 168 nominations.\",\"Poster\":\"https://ia.media-imdb.com/images/M/MV5BMTM2ODk0NDAwMF5BMl5BanBnXkFtZTcwNTM1MDc2Mw@@._V1_SX300.jpg\",\"Ratings\":[{\"Source\":\"Internet Movie Database\",\"Value\":\"7.7/10\"},{\"Source\":\"Rotten Tomatoes\",\"Value\":\"96%\"},{\"Source\":\"Metacritic\",\"Value\":\"95/100\"}],\"Metascore\":\"95\",\"imdbRating\":\"7.7\",\"imdbVotes\":\"540,512\",\"imdbID\":\"tt1285016\",\"Type\":\"movie\",\"DVD\":\"11 Jan 2011\",\"BoxOffice\":\"$96,400,000\",\"Production\":\"Columbia Pictures\",\"Website\":\"http://www.thesocialnetwork-movie.com/\",\"Response\":\"True\"}\n"
     ]
    }
   ],
   "source": [
    "# recently OMDb changed their API, now also have to specify an API key\n",
    "# add another argument to API key, apikey=ff21610b\n",
    "# looks like ?apikey=ff21610b&t=social+network\n",
    "\n",
    "# import requests ... already imported from before\n",
    "\n",
    "url = 'http://www.omdbapi.com/?apikey=ff21610b&t=social+network'\n",
    "r = requests.get(url)\n",
    "\n",
    "print(r.text)"
   ]
  },
  {
   "cell_type": "code",
   "execution_count": 39,
   "metadata": {},
   "outputs": [
    {
     "name": "stdout",
     "output_type": "stream",
     "text": [
      "Title: The Social Network\n",
      "Year: 2010\n",
      "Rated: PG-13\n",
      "Released: 01 Oct 2010\n",
      "Runtime: 120 min\n",
      "Genre: Biography, Drama\n",
      "Director: David Fincher\n",
      "Writer: Aaron Sorkin (screenplay), Ben Mezrich (book)\n",
      "Actors: Jesse Eisenberg, Rooney Mara, Bryan Barter, Dustin Fitzsimons\n",
      "Plot: Harvard student Mark Zuckerberg creates the social networking site that would become known as Facebook, but is later sued by two brothers who claimed he stole their idea, and the co-founder who was later squeezed out of the business.\n",
      "Language: English, French\n",
      "Country: USA\n",
      "Awards: Won 3 Oscars. Another 165 wins & 168 nominations.\n",
      "Poster: https://ia.media-imdb.com/images/M/MV5BMTM2ODk0NDAwMF5BMl5BanBnXkFtZTcwNTM1MDc2Mw@@._V1_SX300.jpg\n",
      "Ratings: [{'Source': 'Internet Movie Database', 'Value': '7.7/10'}, {'Source': 'Rotten Tomatoes', 'Value': '96%'}, {'Source': 'Metacritic', 'Value': '95/100'}]\n",
      "Metascore: 95\n",
      "imdbRating: 7.7\n",
      "imdbVotes: 540,512\n",
      "imdbID: tt1285016\n",
      "Type: movie\n",
      "DVD: 11 Jan 2011\n",
      "BoxOffice: $96,400,000\n",
      "Production: Columbia Pictures\n",
      "Website: http://www.thesocialnetwork-movie.com/\n",
      "Response: True\n"
     ]
    }
   ],
   "source": [
    "# now decode JSON data into a dictionary\n",
    "json_data = r.json()\n",
    "\n",
    "# print each key-value pair\n",
    "for k in json_data.keys():\n",
    "    print(k + ':', json_data[k])"
   ]
  },
  {
   "cell_type": "code",
   "execution_count": 40,
   "metadata": {},
   "outputs": [
    {
     "name": "stdout",
     "output_type": "stream",
     "text": [
      "<p><b>Pizza</b> is a traditional Italian dish consisting of a yeasted flatbread typically topped with tomato sauce and cheese and baked in an oven. It can also be topped with additional vegetables, meats, and condiments, and can be made without cheese.</p>\n",
      "<p>The term <i>pizza</i> was first recorded in the 10th century, in a Latin manuscript from the Southern Italian town of Gaeta in Lazio, on the border with Campania. Modern pizza was invented in Naples, and the dish and its variants have since become popular and common in many areas of the world. In 2009, upon Italy's request, Neapolitan pizza was registered with the European Union as a Traditional Speciality Guaranteed dish. The <i>Associazione Verace Pizza Napoletana</i> (True Neapolitan Pizza Association), a non-profit organization founded in 1984 with headquarters in Naples, aims to \"promote and protect... the true Neapolitan pizza\".</p>\n",
      "<p>Pizza is one of the most popular foods in the world and a common fast food item in Europe and North America. Many independent or chain restaurants, cafes, and fast food outlets offer pizza. Restaurants or chains specializing in pizza are pizzerias. Pizza delivery is common in some parts of the world.</p>\n",
      "<p>Pizza is sold fresh or frozen, either whole or in portions. Various types of ovens are used to cook them and many varieties exist. Several similar dishes are prepared from ingredients commonly used in pizza preparation, such as calzone and stromboli. In the United States, pizza is usually eaten out of hand after dividing into slices from a large pizza or small pizzetta as a whole. In Italy, pizza is eaten with a fork and knife in restaurants, but is also sold to take away and eaten out of hand. Frozen pizza became popular in the late 20th century.</p>\n",
      "<p></p>\n",
      "\n",
      "<p></p>\n",
      "\n"
     ]
    }
   ],
   "source": [
    "# also practice with Wikipedia API\n",
    "\n",
    "# import package, but again already imported\n",
    "\n",
    "url = 'https://en.wikipedia.org/w/api.php?action=query&prop=extracts&format=json&exintro=&titles=pizza'\n",
    "r_wiki = requests.get(url)\n",
    "json_wikidata = r_wiki.json()\n",
    "\n",
    "# print Wikipedia page extract from Wiki's Pizza page\n",
    "pizza_extract = json_wikidata['query']['pages']['24768']['extract']\n",
    "print(pizza_extract)"
   ]
  },
  {
   "cell_type": "markdown",
   "metadata": {},
   "source": [
    "### Twitter API and Authentication\n",
    "    - learn how to stream data from Twitter API\n",
    "    - how to filter incoming tweets for keywords\n",
    "    - about API Authentication and OAuth\n",
    "    - how to use the Tweepy Python package\n",
    "\n",
    "Access the Twitter API - must have an account!\n",
    "    - login to Twitter Apps and create new app (https://apps.twitter.com/)\n",
    "    - under Keys and Access Tokens, need:\n",
    "        - API Key\n",
    "        - API Secret\n",
    "        - Access Token\n",
    "        - Access Token Secret\n",
    "    - going to use Streaming API\n",
    "    - Tweets are returned a JSONs\n",
    "    \n",
    "    import tweepy, json\n",
    "    \n",
    "    access_token = \"...\"\n",
    "    access_token_secret = \"...\"\n",
    "    consumer_key = \"...\"\n",
    "    consumer_secret = \"...\"\n",
    "    \n",
    "    auth = tweepy.OAuthHandler(consumer_key, consumer_secret)\n",
    "    auth.set_access_token(access_token, access_token_secret)\n",
    "    \n",
    "    class MyStreamListener(tweepy.StreamListener):            # define a tweet listener\n",
    "        def __init__(self, api=none)\n",
    "            super(MyStreamListener, self).__init__()\n",
    "            self.num_tweets = 0\n",
    "            self.file = open(\"tweets.txt\", \"w\")               # tweet listener creates file tweets.txt\n",
    "            \n",
    "        def on_status(self, status):\n",
    "            tweet = status._json\n",
    "            self.file.write(json.dumps(tweet) + '\\n')         # collects streaming tweets, writes to file tweets.txt\n",
    "            tweet_list.append(status)\n",
    "            self.num_tweets += 1\n",
    "            if self.num_tweets < 100:                         # once 100 tweets streamed, listener closes file/stops\n",
    "                return True\n",
    "            else:\n",
    "                return False\n",
    "            self.file.close()\n",
    "\n",
    "    \n",
    "    Using Tweepy # create streaming object and authenticate\n",
    "    l = MyStreamListener()\n",
    "    stream = tweepy.Stream(auth, l)\n",
    "    \n",
    "    stream.filter(track=['apples', 'oranges']) # this line filters Twitter Streams to capture data by keywords"
   ]
  },
  {
   "cell_type": "code",
   "execution_count": 65,
   "metadata": {},
   "outputs": [],
   "source": [
    "# import package\n",
    "import tweepy, json\n",
    "\n",
    "access_token = \"248944628-ugVn2o67KUmPp7c0DGTvXZ2IJFmOct0dXttV9bAB\"\n",
    "access_token_secret = \"dZ1xfm7gu3r8SiHyubcC0lhpv5wWVnoAyCYclQUdXh3dN\"\n",
    "consumer_key = \"DcbOYOJ7X9MYuXL4rjqczfEVp\"\n",
    "consumer_secret = \"9tqNXQankRrvfLHDWfVC6tYvUtlIwm6Df7Rgh1lN5JhkIg1SCp\"\n",
    "\n",
    "auth = tweepy.OAuthHandler(consumer_key, consumer_secret)\n",
    "auth.set_access_token(access_token, access_token_secret)"
   ]
  },
  {
   "cell_type": "code",
   "execution_count": 89,
   "metadata": {},
   "outputs": [],
   "source": [
    "class MyStreamListener(tweepy.StreamListener):            # define a tweet listener\n",
    "    def __init__(self, api=None):\n",
    "        super(MyStreamListener, self).__init__()\n",
    "        self.num_tweets = 0\n",
    "        self.file = open(\"tweets.txt\", \"w\")               # tweet listener creates file tweets.txt\n",
    "            \n",
    "    def on_status(self, status):\n",
    "        tweet = status._json\n",
    "        self.file.write(json.dumps(tweet) + '\\n')         # collects streaming tweets, writes to file tweets.txt\n",
    "        self.num_tweets += 1\n",
    "        if self.num_tweets < 500:                         # once 500 tweets streamed, listener closes file/stops\n",
    "            return True\n",
    "        else:\n",
    "            self.file.close()\n",
    "            return False\n",
    "    \n",
    "    def on_error(self, status):\n",
    "        print(status)\n",
    "\n",
    "    \n",
    "# initialize Stream Listener\n",
    "l = MyStreamListener()\n",
    "stream = tweepy.Stream(auth, l)\n",
    "    \n",
    "stream.filter(track=['curry', 'harden', 'warriors', 'rockets'])"
   ]
  },
  {
   "cell_type": "code",
   "execution_count": 90,
   "metadata": {},
   "outputs": [
    {
     "name": "stdout",
     "output_type": "stream",
     "text": [
      "dict_keys(['created_at', 'id', 'id_str', 'text', 'source', 'truncated', 'in_reply_to_status_id', 'in_reply_to_status_id_str', 'in_reply_to_user_id', 'in_reply_to_user_id_str', 'in_reply_to_screen_name', 'user', 'geo', 'coordinates', 'place', 'contributors', 'retweeted_status', 'is_quote_status', 'quote_count', 'reply_count', 'retweet_count', 'favorite_count', 'entities', 'extended_entities', 'favorited', 'retweeted', 'possibly_sensitive', 'filter_level', 'lang', 'timestamp_ms'])\n"
     ]
    }
   ],
   "source": [
    "# string of path to file: tweets_data_path\n",
    "tweets_data_path = 'tweets.txt'\n",
    "\n",
    "# initialize empty list to store tweets: tweets_data\n",
    "tweets_data = []\n",
    "\n",
    "# open connection to file\n",
    "tweets_file = open(tweets_data_path, \"r\")\n",
    "\n",
    "# read in tweets and store in list: tweets_data\n",
    "for line in tweets_file:\n",
    "    tweet = json.loads(line)\n",
    "    tweets_data.append(tweet)\n",
    "\n",
    "# close connection to file\n",
    "tweets_file.close()\n",
    "\n",
    "# print keys of first tweet dict\n",
    "print(tweets_data[0].keys())"
   ]
  },
  {
   "cell_type": "code",
   "execution_count": 91,
   "metadata": {},
   "outputs": [
    {
     "name": "stdout",
     "output_type": "stream",
     "text": [
      "                                                text lang\n",
      "0  RT @timelesssports_: (2007) Steph Curry gettin...   en\n",
      "1  When I don't get to watch the game Curry goes ...   en\n",
      "2  @bonnermvp_ foda mesmo foi o  lebraão e o kyri...   pt\n",
      "3          RT @DwyaneWade: 🗣 https://t.co/rF8cQaLwtG  und\n",
      "4                               Rockets done for smh   en\n"
     ]
    }
   ],
   "source": [
    "# build DataFrame of tweet texts and languages\n",
    "df = pd.DataFrame(tweets_data, columns=['text', 'lang'])\n",
    "\n",
    "print(df.head())"
   ]
  },
  {
   "cell_type": "code",
   "execution_count": 92,
   "metadata": {},
   "outputs": [],
   "source": [
    "import re\n",
    "\n",
    "def word_in_text(word, tweet):\n",
    "    word = word.lower()\n",
    "    text = tweet.lower()\n",
    "    match = re.search(word, tweet)\n",
    "    \n",
    "    if match:\n",
    "        return True\n",
    "    return False\n",
    "\n",
    "# initialize list to store tweet counts\n",
    "[curry, harden, warriors, rockets] = [0, 0, 0, 0]\n",
    "\n",
    "# interate through df, counting number of tweets in which either Lindor or smile is mentioned\n",
    "for index, row in df.iterrows():\n",
    "    curry += word_in_text('curry', row['text'])\n",
    "    harden += word_in_text('harden', row['text'])\n",
    "    warriors += word_in_text('warriors', row['text'])\n",
    "    rockets += word_in_text('rockets', row['text'])"
   ]
  },
  {
   "cell_type": "code",
   "execution_count": 93,
   "metadata": {},
   "outputs": [
    {
     "data": {
      "image/png": "[encoded data removed]",
      "text/plain": [
       "<matplotlib.figure.Figure at 0x10a741780>"
      ]
     },
     "metadata": {},
     "output_type": "display_data"
    }
   ],
   "source": [
    "import matplotlib.pyplot as plt\n",
    "import seaborn as sns\n",
    "\n",
    "# set seaborn style\n",
    "sns.set(color_codes=True)\n",
    "\n",
    "# create list of labels: wcf18\n",
    "wcf18 = ['curry', 'harden', 'warriors', 'rockets']\n",
    "\n",
    "# plot histogram\n",
    "ax = sns.barplot(wcf18, [curry, harden, warriors, rockets])\n",
    "ax.set(ylabel=\"count\")\n",
    "plt.show()"
   ]
  },
  {
   "cell_type": "code",
   "execution_count": null,
   "metadata": {},
   "outputs": [],
   "source": []
  }
 ],
 "metadata": {
  "kernelspec": {
   "display_name": "Python 3",
   "language": "python",
   "name": "python3"
  },
  "language_info": {
   "codemirror_mode": {
    "name": "ipython",
    "version": 3
   },
   "file_extension": ".py",
   "mimetype": "text/x-python",
   "name": "python",
   "nbconvert_exporter": "python",
   "pygments_lexer": "ipython3",
   "version": "3.6.4"
  }
 },
 "nbformat": 4,
 "nbformat_minor": 2
}
