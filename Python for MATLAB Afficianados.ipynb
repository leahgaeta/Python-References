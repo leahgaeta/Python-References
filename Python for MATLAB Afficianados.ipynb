{
 "cells": [
  {
   "cell_type": "markdown",
   "metadata": {},
   "source": [
    "# Welcome to Leah's Python for MATLAB Afficianados \n",
    "\n",
    "This tutorial assumes you have basic MATLAB skills such as plotting, linear algebra operations, conditional statements, loops, and file i/o. Of course, if you need a MATLAB refresher, please check out [Leah's MATLAB References Repository](https://github.com/leahgaeta/MATLAB-References) which includes PDF notes and example programs & functions from when she TA'd the MATLAB & C course at BU.\n",
    "\n",
    "Questions, comments, suggestions? Email me: ltgaeta@bu.edu"
   ]
  },
  {
   "cell_type": "markdown",
   "metadata": {},
   "source": [
    "## Introduction\n",
    "First things first:\n",
    "- Unlike MATLAB, there's no need for suppression in Python. No more wearing out that semicolon button!\n",
    "- Commenting in Python is done using the #, while in MATLAB we comment with the % symbol.\n",
    "- Integers, Floats, Strings, and Booleans are data types in Python. There is no character vector like in MATLAB (which uses single quotes and can be indexed into like a numerical vector, not to be confused with strings which use double quotes and are a different data type).\n",
    "- Variables are assigned the same way, using the = sign.\n",
    "- The print() function is the equivalent to the disp() function in MATLAB.\n",
    "- We can find the data type in Python by using the type() function and passing whatever variable you want to check. In MATLAB, this is similar to the class() function.\n",
    "- Mathematical operations are similar between the type languages. For instance, addition (+), subtraction (-), multiplication (\\*), and division (/) are the same. However, EXPONENTIATION IS DIFFERENT! In MATLAB, we can use the upwards carrot (^). In Python though, we use the double asterisk (\\*\\*). Do not use the carrot operator for exponentiation, unless you love pulling out your hair while debugging your program.\n",
    "    - For example, x = 5 \\*\\* 2 in Python is equivalent to x = 5 ^ 2; in MATLAB.\n",
    "- Also, mathematical operations with integers and floats are different in Python. \n",
    "    - For example, y = 4 * 15.0 (the integer 4 multiplied by the float 15.0) will produce the float y = 60.0. In MATLAB, y = 4 * 15.0; will produce the double y = 60;\n",
    "- We can also use functions attached to variables to manipulate that variable and create something else using the period. (This is called a \"Method\" in Python.)\n",
    "    - For example, myname = \"Leah\"\n",
    "    - loudname = myname.upper()        --> this assigns the string \"LEAH\" to the variable loudname\n",
    "    - quietname = myname.lower()        --> this assigns the string \"leah\" to the variable quietname"
   ]
  },
  {
   "cell_type": "code",
   "execution_count": null,
   "metadata": {},
   "outputs": [],
   "source": []
  }
 ],
 "metadata": {
  "kernelspec": {
   "display_name": "Python 3 (ipykernel)",
   "language": "python",
   "name": "python3"
  },
  "language_info": {
   "codemirror_mode": {
    "name": "ipython",
    "version": 3
   },
   "file_extension": ".py",
   "mimetype": "text/x-python",
   "name": "python",
   "nbconvert_exporter": "python",
   "pygments_lexer": "ipython3",
   "version": "3.9.9"
  }
 },
 "nbformat": 4,
 "nbformat_minor": 4
}
