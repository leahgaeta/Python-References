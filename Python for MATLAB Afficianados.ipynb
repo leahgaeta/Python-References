{
 "cells": [
  {
   "cell_type": "markdown",
   "metadata": {},
   "source": [
    "# Welcome to Leah's Python for MATLAB Afficianados \n",
    "\n",
    "This tutorial assumes you have basic MATLAB skills such as plotting, linear algebra operations, conditional statements, loops, and file i/o. Of course, if you need a MATLAB refresher, please check out [Leah's MATLAB References Repository](https://github.com/leahgaeta/MATLAB-References) which includes PDF notes and example programs & functions from when she TA'd the MATLAB & C course at BU.\n",
    "\n",
    "Questions, comments, suggestions? Email me: ltgaeta@bu.edu"
   ]
  },
  {
   "cell_type": "markdown",
   "metadata": {},
   "source": [
    "## Introduction\n",
    "First things first:\n",
    "- Unlike MATLAB, there's no need for suppression in Python. No more wearing out that semicolon button!\n",
    "- Commenting in Python is done using the #, while in MATLAB we comment with the % symbol.\n",
    "- Integers, Floats, Strings, and Booleans are data types in Python. There is no character vector like in MATLAB (which uses single quotes and can be indexed into like a numerical vector, not to be confused with strings which use double quotes and are a different data type).\n",
    "- Variables are assigned the same way, using the = sign.\n",
    "- The print() function is equivalent to the disp() function in MATLAB.\n",
    "- We can find the data type in Python by using the type() function and passing whatever variable you want to check. In MATLAB, this is similar to the class() function.\n",
    "- Mathematical operations are similar between the two languages. For instance, addition (+), subtraction (-), multiplication (\\*), and division (/) are the same. However, EXPONENTIATION IS DIFFERENT! In MATLAB, we can use the upwards carrot (^). In Python though, we use the double asterisk (\\*\\*). Do not use the carrot operator for exponentiation, unless you love pulling out your hair while debugging your program.\n",
    "    - For example, x = 5 \\*\\* 2 in Python is equivalent to x = 5 ^ 2; in MATLAB."
   ]
  },
  {
   "cell_type": "code",
   "execution_count": 2,
   "metadata": {},
   "outputs": [
    {
     "name": "stdout",
     "output_type": "stream",
     "text": [
      "25\n",
      "<class 'int'>\n"
     ]
    }
   ],
   "source": [
    "x = 5 ** 2\n",
    "print(x)\n",
    "print(type(x))"
   ]
  },
  {
   "cell_type": "markdown",
   "metadata": {},
   "source": [
    "- Also, mathematical operations with integers and floats are different in Python. \n",
    "    - For example, y = 4 \\* 15.0 (the integer 4 multiplied by the float 15.0) will produce the float y = 60.0. In MATLAB, y = 4 \\* 15.0; will produce the double y = 60;"
   ]
  },
  {
   "cell_type": "code",
   "execution_count": 4,
   "metadata": {},
   "outputs": [
    {
     "name": "stdout",
     "output_type": "stream",
     "text": [
      "60.0\n",
      "<class 'float'>\n"
     ]
    }
   ],
   "source": [
    "y = 4 * 15.0\n",
    "print(y)\n",
    "print(type(y))"
   ]
  },
  {
   "cell_type": "markdown",
   "metadata": {},
   "source": [
    "- We can also use functions attached to variables to manipulate that variable and create something else using the period. This is called a **Method** in Python.\n",
    "    - For example, myname = \"Leah\"\n",
    "    - loudname = myname.upper()        --> this assigns the string \"LEAH\" to the variable loudname\n",
    "    - quietname = myname.lower()        --> this assigns the string \"leah\" to the variable quietname"
   ]
  },
  {
   "cell_type": "code",
   "execution_count": 5,
   "metadata": {},
   "outputs": [
    {
     "name": "stdout",
     "output_type": "stream",
     "text": [
      "Leah\n",
      "LEAH\n",
      "leah\n"
     ]
    }
   ],
   "source": [
    "myname = \"Leah\"\n",
    "loudname = myname.upper()\n",
    "quietname = myname.lower()\n",
    "print(myname)\n",
    "print(loudname)\n",
    "print(quietname)"
   ]
  },
  {
   "cell_type": "markdown",
   "metadata": {},
   "source": [
    "- The format() method in Python is very similar to the formatted print statements fprintf() & sprintf() in MATLAB."
   ]
  },
  {
   "cell_type": "code",
   "execution_count": 7,
   "metadata": {},
   "outputs": [
    {
     "name": "stdout",
     "output_type": "stream",
     "text": [
      "Hi! My name is Leah and I'm impressed you've made it this far in the notebook.\n",
      "There are 9.0 innings in baseball. Unless there's extra or a double-header. (Or if MLB Commissioner Manfred decides to do something crazy.)\n"
     ]
    }
   ],
   "source": [
    "mysentence = \"Hi! My name is {} and I'm impressed you've made it this far in the notebook.\".format(myname)\n",
    "innings = 9.0\n",
    "baseballfact = \"There are {} innings in baseball. Unless there's extra or a double-header. (Or if MLB Commissioner Manfred decides to do something crazy.)\".format(innings)\n",
    "print(mysentence)\n",
    "print(baseballfact)"
   ]
  },
  {
   "cell_type": "markdown",
   "metadata": {},
   "source": [
    "- Another huge difference between MATLAB and Python is where our functions come from. In MATLAB, we have access to any functions we've created in our current path/directory. However, in Python we use **packages** to access functions we need, whether they be native to Python (like the standard library) or from a third party. We also import these packages and sometimes we can import just a part of a package. The math package has basic math functions and constants, such as pi, sine, cosine, log, etc."
   ]
  },
  {
   "cell_type": "code",
   "execution_count": 11,
   "metadata": {},
   "outputs": [
    {
     "name": "stdout",
     "output_type": "stream",
     "text": [
      "3.141592653589793\n",
      "<class 'float'>\n",
      "The sine of 90 degrees is 1.0\n"
     ]
    }
   ],
   "source": [
    "import math\n",
    "print(math.pi)\n",
    "print(type(math.pi))\n",
    "\n",
    "# Or we can import just one or a few things from a package if necessary\n",
    "from math import sin, pi\n",
    "print(\"The sine of 90 degrees is {}\".format(math.sin(math.pi / 2))) # Notice that sine defaults to radians for its arguments"
   ]
  },
  {
   "cell_type": "markdown",
   "metadata": {},
   "source": [
    "- Often in Python, we'll import packages using an **alias**. This is still done using the import command, as well as with the \"as {insert alias}. Some examples are below:"
   ]
  },
  {
   "cell_type": "code",
   "execution_count": 20,
   "metadata": {},
   "outputs": [],
   "source": [
    "import numpy as np        # Working with arrays\n",
    "import pandas as pd       # Working with dataframes (kind of like structs in MATLAB)\n",
    "import matplotlib as plt  # For plotting like we're used to in MATLAB\n",
    "import seaborn as sns     # Useful for data visualization (built on top of matplotlib)\n",
    "import sklearn            # Data science stuff (I haven't seen a common alias used)\n",
    "import datetime as dt     # Datetime package"
   ]
  },
  {
   "cell_type": "code",
   "execution_count": null,
   "metadata": {},
   "outputs": [],
   "source": []
  }
 ],
 "metadata": {
  "kernelspec": {
   "display_name": "Python 3 (ipykernel)",
   "language": "python",
   "name": "python3"
  },
  "language_info": {
   "codemirror_mode": {
    "name": "ipython",
    "version": 3
   },
   "file_extension": ".py",
   "mimetype": "text/x-python",
   "name": "python",
   "nbconvert_exporter": "python",
   "pygments_lexer": "ipython3",
   "version": "3.9.9"
  }
 },
 "nbformat": 4,
 "nbformat_minor": 4
}
