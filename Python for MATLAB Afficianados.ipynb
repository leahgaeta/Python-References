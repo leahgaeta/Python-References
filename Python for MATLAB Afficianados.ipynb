{
 "cells": [
  {
   "cell_type": "markdown",
   "metadata": {},
   "source": [
    "# Welcome to Leah's Python for MATLAB Afficianados \n",
    "\n",
    "This tutorial assumes you have basic MATLAB skills such as plotting, linear algebra operations, conditional statements, loops, and file i/o. Of course, if you need a MATLAB refresher, please check out [Leah's MATLAB References Repository](https://github.com/leahgaeta/MATLAB-References) which includes PDF notes and example programs & functions from when she TA'd the MATLAB & C course at BU.\n",
    "\n",
    "Questions, comments, suggestions? Email me: ltgaeta@bu.edu"
   ]
  },
  {
   "cell_type": "code",
   "execution_count": null,
   "metadata": {},
   "outputs": [],
   "source": []
  }
 ],
 "metadata": {
  "kernelspec": {
   "display_name": "Python 3",
   "language": "python",
   "name": "python3"
  },
  "language_info": {
   "codemirror_mode": {
    "name": "ipython",
    "version": 3
   },
   "file_extension": ".py",
   "mimetype": "text/x-python",
   "name": "python",
   "nbconvert_exporter": "python",
   "pygments_lexer": "ipython3",
   "version": "3.8.5"
  }
 },
 "nbformat": 4,
 "nbformat_minor": 4
}
