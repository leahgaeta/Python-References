{
 "cells": [
  {
   "cell_type": "markdown",
   "metadata": {},
   "source": [
    "# Welcome to Leah's Python for MATLAB Afficianados \n",
    "\n",
    "This tutorial assumes you have basic MATLAB skills such as plotting, linear algebra operations, conditional statements, loops, and file i/o. Of course, if you need a MATLAB refresher, please check out [Leah's MATLAB References Repository](https://github.com/leahgaeta/MATLAB-References) which includes PDF notes and example programs & functions from when she TA'd the MATLAB & C course at BU.\n",
    "\n",
    "Questions, comments, suggestions? Email me: ltgaeta@bu.edu"
   ]
  },
  {
   "cell_type": "markdown",
   "metadata": {},
   "source": [
    "### Introduction\n",
    "First things first:\n",
    "- Unlike MATLAB, there's no need for suppression in Python. No more wearing out that semicolon button!\n",
    "- Commenting in Python is done using the #, while in MATLAB we comment with the % symbol.\n",
    "- Integers, Floats, Strings, and Booleans are data types in Python. There is no character vector like in MATLAB (which uses single quotes and can be indexed into like a numerical vector, not to be confused with strings which use double quotes and are a different data type).\n",
    "- Variables are assigned the same way, using the = sign.\n",
    "- The print() function is equivalent to the disp() function in MATLAB.\n",
    "- We can find the data type in Python by using the type() function and passing whatever variable you want to check. In MATLAB, this is similar to the class() function."
   ]
  },
  {
   "cell_type": "markdown",
   "metadata": {},
   "source": [
    "Mathematical operations are similar between the two languages. For instance, addition (+), subtraction (-), multiplication (\\*), and division (/) are the same. However, EXPONENTIATION IS DIFFERENT! In MATLAB, we can use the upwards carrot (^). In Python though, we use the double asterisk (\\*\\*). Do not use the carrot operator for exponentiation, unless you love pulling out your hair while debugging your program.\n",
    "- For example, x = 5 \\*\\* 2 in Python is equivalent to x = 5 ^ 2; in MATLAB."
   ]
  },
  {
   "cell_type": "code",
   "execution_count": 2,
   "metadata": {},
   "outputs": [
    {
     "name": "stdout",
     "output_type": "stream",
     "text": [
      "25\n",
      "<class 'int'>\n"
     ]
    }
   ],
   "source": [
    "x = 5 ** 2\n",
    "print(x)\n",
    "print(type(x))"
   ]
  },
  {
   "cell_type": "markdown",
   "metadata": {},
   "source": [
    "- Also, mathematical operations with integers and floats are different in Python. \n",
    "    - For example, y = 4 \\* 15.0 (the integer 4 multiplied by the float 15.0) will produce the float y = 60.0. In MATLAB, y = 4 \\* 15.0; will produce the double y = 60;"
   ]
  },
  {
   "cell_type": "code",
   "execution_count": 4,
   "metadata": {},
   "outputs": [
    {
     "name": "stdout",
     "output_type": "stream",
     "text": [
      "60.0\n",
      "<class 'float'>\n"
     ]
    }
   ],
   "source": [
    "y = 4 * 15.0\n",
    "print(y)\n",
    "print(type(y))"
   ]
  },
  {
   "cell_type": "markdown",
   "metadata": {},
   "source": [
    "We can also use functions attached to variables to manipulate that variable and create something else using the period. This is called a **Method** in Python.\n",
    "- For example, myname = \"Leah\"\n",
    "- loudname = myname.upper()        --> this assigns the string \"LEAH\" to the variable *loudname*\n",
    "- quietname = myname.lower()        --> this assigns the string \"leah\" to the variable *quietname*"
   ]
  },
  {
   "cell_type": "code",
   "execution_count": 2,
   "metadata": {},
   "outputs": [
    {
     "name": "stdout",
     "output_type": "stream",
     "text": [
      "Leah\n",
      "LEAH\n",
      "leah\n"
     ]
    }
   ],
   "source": [
    "myname = \"Leah\"\n",
    "loudname = myname.upper()\n",
    "quietname = myname.lower()\n",
    "print(myname)\n",
    "print(loudname)\n",
    "print(quietname)"
   ]
  },
  {
   "cell_type": "markdown",
   "metadata": {},
   "source": [
    "The format() method in Python is very similar to the formatted print statements fprintf() & sprintf() in MATLAB. Basically, we can format a string using curly braces and the format method, which takes the argument passed and inserts it where curly braces are in the string."
   ]
  },
  {
   "cell_type": "code",
   "execution_count": 50,
   "metadata": {},
   "outputs": [
    {
     "name": "stdout",
     "output_type": "stream",
     "text": [
      "Hi! My name is Leah and I'm impressed you've made it this far in the notebook.\n",
      "There are 9.0 innings in baseball. Unless there's extra or a double-header. \n",
      "(Or if MLB Commissioner Manfred decides to do something crazy.)\n"
     ]
    }
   ],
   "source": [
    "mysentence = \"Hi! My name is {} and I'm impressed you've made it this far in the notebook.\".format(myname)\n",
    "innings = 9.0\n",
    "baseballfact = \"There are {} innings in baseball. Unless there's extra or a double-header. \\n(Or if MLB Commissioner Manfred decides to do something crazy.)\".format(innings)\n",
    "print(mysentence)\n",
    "print(baseballfact)"
   ]
  },
  {
   "cell_type": "markdown",
   "metadata": {},
   "source": [
    "Another huge difference between MATLAB and Python is where our functions come from. In MATLAB, we have access to any functions we've created in our current path/directory. However, in Python we use **packages** to access functions we need, whether they be native to Python (like the standard library) or from a third party. We also import these packages and sometimes we can import just a part of a package. The math package has basic math functions and constants, such as pi, sine, cosine, log, etc."
   ]
  },
  {
   "cell_type": "code",
   "execution_count": 4,
   "metadata": {},
   "outputs": [
    {
     "name": "stdout",
     "output_type": "stream",
     "text": [
      "3.141592653589793\n",
      "<class 'float'>\n",
      "The sine of 90 degrees is 1.0\n"
     ]
    }
   ],
   "source": [
    "import math\n",
    "print(math.pi)\n",
    "print(type(math.pi))\n",
    "\n",
    "# Or we can import just one or a few things from a package if necessary\n",
    "from math import sin, pi\n",
    "print(\"The sine of 90 degrees is {}\".format(math.sin(math.pi / 2))) # Notice that sine defaults to radians for its arguments"
   ]
  },
  {
   "cell_type": "markdown",
   "metadata": {},
   "source": [
    "Often in Python, we'll import packages using an **alias**. This is still done using the import command, as well as with the \"as {insert alias}. Some examples are below:"
   ]
  },
  {
   "cell_type": "code",
   "execution_count": 33,
   "metadata": {},
   "outputs": [],
   "source": [
    "import numpy as np               # Working with arrays\n",
    "import pandas as pd              # Working with dataframes (kind of like structs in MATLAB)\n",
    "import matplotlib.pyplot as plt  # For plotting like we're used to in MATLAB\n",
    "import seaborn as sns            # Useful for data visualization (built on top of matplotlib)\n",
    "import sklearn                   # Data science stuff (I haven't seen a common alias used)\n",
    "import datetime as dt            # Datetime package"
   ]
  },
  {
   "cell_type": "markdown",
   "metadata": {},
   "source": [
    "We can also work with and manipulate arrays in Python (like we're used to in MATLAB), and we use the *NumPy* package for this. Keep in mind that an array must be homogeneous, meaning all array elements must be of the same type; for example, either all floats or all integers, but not a combination of the two.\n",
    "- In order to index into an array however, we must use square brackets **[ ]**. (Remember in MATLAB, we just use parantheses.)\n",
    "- Also, in case no one's told you, Python begins indexing at 0, unlike MATLAB which begins at 1.\n",
    "- To index into the last element of a 1-dimensional array, we can use **[-1]**, which works like MATLAB's *(end)*. For example, **myarray[-1] in Python** is the same as *myarray(end) in MATLAB*.\n",
    "- Using the mathematical operations we went over previously, we can also do element-by-element operations on arrays like in MATLAB. For multiplication of each element, we can use a single \\* (rather than .\\* in MATLAB). In order to do matrix multiplication with NumPy arrays, we would use the [*np.dot()* function](https://numpy.org/doc/stable/reference/generated/numpy.dot.html)."
   ]
  },
  {
   "cell_type": "code",
   "execution_count": 62,
   "metadata": {},
   "outputs": [
    {
     "name": "stdout",
     "output_type": "stream",
     "text": [
      "[18 14 18 17 16 13  0 15 18 18]\n",
      "In the array [18 14 18 17 16 13  0 15 18 18],\n",
      "the first element is 18 and the last element is 18.\n",
      "\n",
      "\n",
      "And the 4th, 5th, and 6th elements are: 17, 16, 13.\n"
     ]
    }
   ],
   "source": [
    "# Generate a 1-dimensional array using random integers from the NumPy package\n",
    "# First argument is the lower end of the range, second is the upper end, third is the total number of elements\n",
    "myarray = np.random.randint(0, 20, 10) \n",
    "print(myarray)\n",
    "myarraysentence = \"In the array {},\\nthe first element is {} and the last element is {}.\".format(myarray, myarray[0], myarray[-1])\n",
    "print(myarraysentence)\n",
    "# Notice the newline character in the string above!\n",
    "\n",
    "# Note that we can also index multiple elements of an array.\n",
    "# Here, we are getting the 4th, 5th, and 6th elements\n",
    "# The first argument is 3 because of the zero-based indexing\n",
    "# The last argument is 6 which is where the call terminates. This value is not included!\n",
    "sample = myarray[3: 6]\n",
    "print(\"\\n\\nAnd the 4th, 5th, and 6th elements are: {}, {}, {}.\".format(sample[0], sample[1], sample[2]))"
   ]
  },
  {
   "cell_type": "markdown",
   "metadata": {},
   "source": [
    "- Sometimes we just want to get basic information about an array, such as the average value or length. Check out these examples below:"
   ]
  },
  {
   "cell_type": "code",
   "execution_count": 60,
   "metadata": {},
   "outputs": [
    {
     "name": "stdout",
     "output_type": "stream",
     "text": [
      "The length of the array is: 10.\n",
      "The mean of the array is: 8.5.\n",
      "The median of the array is: 9.0.\n",
      "The minimum of the array is: 0.\n",
      "The maximum of the array is: 16.\n",
      "The sum of the array is: 85.\n"
     ]
    }
   ],
   "source": [
    "print(\"The {} of the array is: {}.\".format(\"length\", len(myarray)))\n",
    "print(\"The {} of the array is: {}.\".format(\"mean\", np.mean(myarray)))\n",
    "print(\"The {} of the array is: {}.\".format(\"median\", np.median(myarray)))\n",
    "print(\"The {} of the array is: {}.\".format(\"minimum\", np.min(myarray)))\n",
    "print(\"The {} of the array is: {}.\".format(\"maximum\", np.max(myarray)))\n",
    "print(\"The {} of the array is: {}.\".format(\"sum\", np.sum(myarray)))"
   ]
  },
  {
   "cell_type": "markdown",
   "metadata": {},
   "source": [
    "### Plotting Fun\n",
    "Thankfully, we can also *plot* in Python and we do this just like we would in MATLAB since we'll typically be using the *matplotlib* package. Note that we alread imported the library a few code cells ago."
   ]
  },
  {
   "cell_type": "code",
   "execution_count": 35,
   "metadata": {},
   "outputs": [
    {
     "name": "stdout",
     "output_type": "stream",
     "text": [
      "Here's our x vector [0.  1.5 3.  4.5 6. ].\n",
      "Here's our y vector [0 1 0 0 2].\n",
      "Now let's plot our new vectors using the MatPlotLib package.\n"
     ]
    }
   ],
   "source": [
    "# Let's make some x and y vectors for plotting\n",
    "xvec = np.linspace(0, 6, 5)\n",
    "print(\"Here's our x vector {}.\".format(xvec))\n",
    "# Oh look, linspace is in the NumPy package and works the same!\n",
    "yvec = np.random.randint(0, 6, 5)\n",
    "print(\"Here's our y vector {}.\".format(yvec))\n",
    "print(\"Now let's plot our new vectors using the MatPlotLib package.\")"
   ]
  },
  {
   "cell_type": "code",
   "execution_count": 48,
   "metadata": {},
   "outputs": [
    {
     "data": {
      "image/png": "[encoded data removed]",
      "text/plain": [
       "<Figure size 432x288 with 1 Axes>"
      ]
     },
     "metadata": {
      "needs_background": "light"
     },
     "output_type": "display_data"
    }
   ],
   "source": [
    "# Make new figure window\n",
    "plt.figure()\n",
    "\n",
    "# Plot\n",
    "plt.plot(xvec, yvec)\n",
    "\n",
    "# Format\n",
    "plt.title(\"Our Practice Plot\")\n",
    "plt.xlabel(\"xvec\")\n",
    "plt.ylabel(\"yvec\")\n",
    "\n",
    "# Show the plot\n",
    "plt.show()"
   ]
  },
  {
   "cell_type": "code",
   "execution_count": 70,
   "metadata": {},
   "outputs": [
    {
     "data": {
      "image/png": "[encoded data removed]",
      "text/plain": [
       "<Figure size 432x288 with 1 Axes>"
      ]
     },
     "metadata": {
      "needs_background": "light"
     },
     "output_type": "display_data"
    }
   ],
   "source": [
    "# How cute! Let's play more and superimpose plots\n",
    "# Make another vector with 5 elements\n",
    "new_yvec = np.random.randint(0, 6, 5)\n",
    "\n",
    "# Plot\n",
    "plt.figure()\n",
    "plt.plot(xvec, yvec, \"b-.\")\n",
    "plt.plot(xvec, new_yvec, \"r--\") \n",
    "# Note how we don't need to hold on/off like in MATLAB!\n",
    "\n",
    "# More formatting\n",
    "plt.title(\"Dang, this is a pretty plot!\")\n",
    "plt.xlabel(\"Days of the Week\")\n",
    "# Let's customize tick marks because why not?\n",
    "plt.xticks([0, 1, 2, 3, 4, 5, 6], list('SMTWRFS')) # We'll learn lists shortly\n",
    "plt.ylabel(\"Money We Need\")\n",
    "plt.yticks([1, 2, 3, 4], ['$1M', '$2M', '$3M', '$4M'])\n",
    "plt.legend([\"yvec\", \"new_yvec\"], loc = \"best\") # loc means location of the legend\n",
    "# Note the legend matches the order of the plotting calls. If we don't want this implicit\n",
    "# matching, we can use handles (look this up!)\n",
    "\n",
    "# Show the plot\n",
    "plt.show()"
   ]
  },
  {
   "cell_type": "markdown",
   "metadata": {},
   "source": [
    "### New Data Structure: Lists\n",
    "Lists are similar to cell arrays in MATLAB, and can store integers, floats, strings, arrays, even functions (what? yes, really). Lists are great for simply grouping things together. Though built into the Python standard library, they are indexed just like NumPy arrays (remember that we have to import NumPy, so it is not built into the standard library). However, lists must always be one-dimensional.\n",
    "\n",
    "To make a list, we use square brackets and commas similar to making an array in MATLAB.\n",
    "\n",
    "We can't do math operations on lists though, so keep in mind that if this is something you want to do, you'll need to turn it into an array using NumPy's array function."
   ]
  },
  {
   "cell_type": "code",
   "execution_count": 64,
   "metadata": {},
   "outputs": [
    {
     "name": "stdout",
     "output_type": "stream",
     "text": [
      "[5, 8, 2, 4, 7, 9, 3]\n",
      "[7, 9, 3]\n",
      "The above operation gives us the last three elements in the list!\n",
      "\n",
      "Now let's turn this list into an array:\n",
      "<class 'numpy.ndarray'>\n"
     ]
    }
   ],
   "source": [
    "the_list = [5, 8, 2, 4, 7, 9, 3]\n",
    "print(the_list)\n",
    "print(the_list[-3:])\n",
    "print(\"The above operation gives us the last three elements in the list!\\n\")\n",
    "print(\"Now let's turn this list into an array:\")\n",
    "the_array = np.array(the_list)\n",
    "print(type(the_array))"
   ]
  },
  {
   "cell_type": "markdown",
   "metadata": {},
   "source": [
    "To make things even wilder, we can have a list of lists! We can then use this list of lists to build a multidimensional array for us to manipulate later."
   ]
  },
  {
   "cell_type": "code",
   "execution_count": 66,
   "metadata": {},
   "outputs": [
    {
     "name": "stdout",
     "output_type": "stream",
     "text": [
      "Here's the list: \n",
      "[[2, 4, 6], [3, 5, 7], [9, 7, 5], [8, 6, 4]]\n",
      "Now, here's the array from the list: \n",
      "[[2 4 6]\n",
      " [3 5 7]\n",
      " [9 7 5]\n",
      " [8 6 4]]\n",
      "\n",
      "We can see that this is now a (4, 3) array that can be used in mathematical operations!\n",
      "Mind. Blown.\n"
     ]
    }
   ],
   "source": [
    "mega_list = [[2, 4, 6], [3, 5, 7], [9, 7, 5], [8, 6, 4]]\n",
    "mega_array = np.array(mega_list)\n",
    "print(\"Here's the list: \")\n",
    "print(mega_list)\n",
    "print(\"Now, here's the array from the list: \")\n",
    "print(mega_array)\n",
    "print(\"\\nWe can see that this is now a {} array that can be used in mathematical operations!\".format(mega_array.shape))\n",
    "print(\"Mind. Blown.\")"
   ]
  },
  {
   "cell_type": "markdown",
   "metadata": {},
   "source": [
    "So, lists cannot use mathematical operations... however, if we use the plus operator we can concatenate arrays, like this:"
   ]
  },
  {
   "cell_type": "code",
   "execution_count": 68,
   "metadata": {},
   "outputs": [
    {
     "name": "stdout",
     "output_type": "stream",
     "text": [
      "Here's the_list and mega_list concatenated together using the + operator.\n",
      "[5, 8, 2, 4, 7, 9, 3, [2, 4, 6], [3, 5, 7], [9, 7, 5], [8, 6, 4]]\n",
      "\n",
      "Wowza.\n"
     ]
    }
   ],
   "source": [
    "new_list = the_list + mega_list\n",
    "print(\"Here's the_list and mega_list concatenated together using the + operator.\")\n",
    "print(new_list)\n",
    "print(\"\\nWowza.\")"
   ]
  },
  {
   "cell_type": "markdown",
   "metadata": {},
   "source": [
    "### New Data Structure: Dictionaries\n",
    "The premise of dictionaries is similar to MATLAB structs; they are made using curly braces, commas, and colons, have key:value pairing, and the ordering doesn't really matter (unlike lists or NumPy arrays). Like an actual dictionary, we can think of the *key as words* and *value as definitions*.\n",
    "\n",
    "**key:** *value*\n",
    "\n",
    "**word:** *definition*\n",
    "\n",
    "You may be wondering... what can be a value? Anything, really. Numbers, lists, strings, other dictionaries..."
   ]
  },
  {
   "cell_type": "code",
   "execution_count": 78,
   "metadata": {},
   "outputs": [
    {
     "name": "stdout",
     "output_type": "stream",
     "text": [
      "{'name': 'Marvin', 'age': 1, 'breed': 'Golden Retriever', 'occupation': 'Snuggle Buddy'}\n",
      "<class 'dict'>\n",
      "\n",
      "After adding to the dictionary, here's what it looks like now: \n",
      "{'name': 'Marvin', 'age': 1, 'breed': 'Golden Retriever', 'occupation': 'Snuggle Buddy', 'weight (lbs)': 75.0}\n",
      "\n",
      "After removing the key, age, the dictionary is now this: \n",
      "{'name': 'Marvin', 'breed': 'Golden Retriever', 'occupation': 'Snuggle Buddy', 'weight (lbs)': 75.0}\n",
      "\n",
      "\n",
      "Marvin\n",
      "Golden Retriever\n",
      "Snuggle Buddy\n",
      "75.0\n"
     ]
    }
   ],
   "source": [
    "# Making a dictionary\n",
    "mydog = {'name': 'Marvin', 'age': 1, 'breed': 'Golden Retriever', 'occupation': 'Snuggle Buddy'}\n",
    "print(mydog)\n",
    "print(type(mydog))\n",
    "\n",
    "# Adding to the dictionary\n",
    "mydog['weight (lbs)'] = 75.0\n",
    "print(\"\\nAfter adding to the dictionary, here's what it looks like now: \")\n",
    "print(mydog)\n",
    "\n",
    "# Removing from the dictionary\n",
    "mydog.pop('age')\n",
    "print(\"\\nAfter removing the key, age, the dictionary is now this: \")\n",
    "print(mydog)\n",
    "\n",
    "# Accessing values from a dictionary\n",
    "print(\"\\n\")\n",
    "print(mydog['name'])\n",
    "print(mydog['breed'])\n",
    "print(mydog['occupation'])\n",
    "print(mydog['weight (lbs)'])"
   ]
  },
  {
   "cell_type": "markdown",
   "metadata": {},
   "source": [
    "### New Data Structure: DataFrames\n",
    "***DataFrames come from the Pandas package*** (which is built on top of NumPy) and are incredibly useful when working with large amounts of data, like in Data Science and Machine Learning. If you were to imagine a speadsheet (or a Table in MATLAB), a row in DataFrames is called an *observation*, and a column a *feature*. Observations can have a variety of data types, such as integers, floats, strings, and booleans.\n",
    "\n",
    "Similar to MATLAB Tables, we can use the .head() and .tail() methods to see what a dataset looks like. (In MATLAB, head() and tail() return the first 8 and last 8 rows, respectively, while Python returns the first 5 and last 5 observations if a specific value is not supplied as the argument in parantheses.)\n",
    "\n",
    "If we wanted to get just the column names of a DataFrame, we can use the .columns() method. To get the \"rows\" we can similarly use the .index() method but keep in mind that these won't be using indices like we've seen before.\n",
    "\n",
    "We can use many NumPy MatPlotLib functions with our Pandas DataFrames.\n",
    "\n",
    "Take a look at the following code cells to learn how to import data into a DataFrame and use a variety of methods and indexing to gather specific information about the data. Make sure the CSV file 'winequality-red.csv' is in your current working directory (you can snag this from the Python-References repository)."
   ]
  },
  {
   "cell_type": "code",
   "execution_count": 90,
   "metadata": {},
   "outputs": [
    {
     "data": {
      "text/html": [
       "<div>\n",
       "<style scoped>\n",
       "    .dataframe tbody tr th:only-of-type {\n",
       "        vertical-align: middle;\n",
       "    }\n",
       "\n",
       "    .dataframe tbody tr th {\n",
       "        vertical-align: top;\n",
       "    }\n",
       "\n",
       "    .dataframe thead th {\n",
       "        text-align: right;\n",
       "    }\n",
       "</style>\n",
       "<table border=\"1\" class=\"dataframe\">\n",
       "  <thead>\n",
       "    <tr style=\"text-align: right;\">\n",
       "      <th></th>\n",
       "      <th>volatile acidity</th>\n",
       "      <th>citric acid</th>\n",
       "      <th>residual sugar</th>\n",
       "      <th>chlorides</th>\n",
       "      <th>free sulfur dioxide</th>\n",
       "      <th>total sulfur dioxide</th>\n",
       "      <th>density</th>\n",
       "      <th>pH</th>\n",
       "      <th>sulphates</th>\n",
       "      <th>alcohol</th>\n",
       "      <th>quality</th>\n",
       "    </tr>\n",
       "    <tr>\n",
       "      <th>fixed acidity</th>\n",
       "      <th></th>\n",
       "      <th></th>\n",
       "      <th></th>\n",
       "      <th></th>\n",
       "      <th></th>\n",
       "      <th></th>\n",
       "      <th></th>\n",
       "      <th></th>\n",
       "      <th></th>\n",
       "      <th></th>\n",
       "      <th></th>\n",
       "    </tr>\n",
       "  </thead>\n",
       "  <tbody>\n",
       "    <tr>\n",
       "      <th>7.4</th>\n",
       "      <td>0.70</td>\n",
       "      <td>0.00</td>\n",
       "      <td>1.9</td>\n",
       "      <td>0.076</td>\n",
       "      <td>11.0</td>\n",
       "      <td>34.0</td>\n",
       "      <td>0.9978</td>\n",
       "      <td>3.51</td>\n",
       "      <td>0.56</td>\n",
       "      <td>9.4</td>\n",
       "      <td>5</td>\n",
       "    </tr>\n",
       "    <tr>\n",
       "      <th>7.8</th>\n",
       "      <td>0.88</td>\n",
       "      <td>0.00</td>\n",
       "      <td>2.6</td>\n",
       "      <td>0.098</td>\n",
       "      <td>25.0</td>\n",
       "      <td>67.0</td>\n",
       "      <td>0.9968</td>\n",
       "      <td>3.20</td>\n",
       "      <td>0.68</td>\n",
       "      <td>9.8</td>\n",
       "      <td>5</td>\n",
       "    </tr>\n",
       "    <tr>\n",
       "      <th>7.8</th>\n",
       "      <td>0.76</td>\n",
       "      <td>0.04</td>\n",
       "      <td>2.3</td>\n",
       "      <td>0.092</td>\n",
       "      <td>15.0</td>\n",
       "      <td>54.0</td>\n",
       "      <td>0.9970</td>\n",
       "      <td>3.26</td>\n",
       "      <td>0.65</td>\n",
       "      <td>9.8</td>\n",
       "      <td>5</td>\n",
       "    </tr>\n",
       "    <tr>\n",
       "      <th>11.2</th>\n",
       "      <td>0.28</td>\n",
       "      <td>0.56</td>\n",
       "      <td>1.9</td>\n",
       "      <td>0.075</td>\n",
       "      <td>17.0</td>\n",
       "      <td>60.0</td>\n",
       "      <td>0.9980</td>\n",
       "      <td>3.16</td>\n",
       "      <td>0.58</td>\n",
       "      <td>9.8</td>\n",
       "      <td>6</td>\n",
       "    </tr>\n",
       "    <tr>\n",
       "      <th>7.4</th>\n",
       "      <td>0.70</td>\n",
       "      <td>0.00</td>\n",
       "      <td>1.9</td>\n",
       "      <td>0.076</td>\n",
       "      <td>11.0</td>\n",
       "      <td>34.0</td>\n",
       "      <td>0.9978</td>\n",
       "      <td>3.51</td>\n",
       "      <td>0.56</td>\n",
       "      <td>9.4</td>\n",
       "      <td>5</td>\n",
       "    </tr>\n",
       "  </tbody>\n",
       "</table>\n",
       "</div>"
      ],
      "text/plain": [
       "               volatile acidity  citric acid  residual sugar  chlorides  \\\n",
       "fixed acidity                                                             \n",
       "7.4                        0.70         0.00             1.9      0.076   \n",
       "7.8                        0.88         0.00             2.6      0.098   \n",
       "7.8                        0.76         0.04             2.3      0.092   \n",
       "11.2                       0.28         0.56             1.9      0.075   \n",
       "7.4                        0.70         0.00             1.9      0.076   \n",
       "\n",
       "               free sulfur dioxide  total sulfur dioxide  density    pH  \\\n",
       "fixed acidity                                                             \n",
       "7.4                           11.0                  34.0   0.9978  3.51   \n",
       "7.8                           25.0                  67.0   0.9968  3.20   \n",
       "7.8                           15.0                  54.0   0.9970  3.26   \n",
       "11.2                          17.0                  60.0   0.9980  3.16   \n",
       "7.4                           11.0                  34.0   0.9978  3.51   \n",
       "\n",
       "               sulphates  alcohol  quality  \n",
       "fixed acidity                               \n",
       "7.4                 0.56      9.4        5  \n",
       "7.8                 0.68      9.8        5  \n",
       "7.8                 0.65      9.8        5  \n",
       "11.2                0.58      9.8        6  \n",
       "7.4                 0.56      9.4        5  "
      ]
     },
     "execution_count": 90,
     "metadata": {},
     "output_type": "execute_result"
    }
   ],
   "source": [
    "# Import the data\n",
    "wines_df = pd.read_csv('winequality-red.csv', index_col = 0)\n",
    "# The second argument to read_csv is optional but useful when have a dataset like the one we're working with so that we can set the indices\n",
    "wines_df.head()"
   ]
  },
  {
   "cell_type": "code",
   "execution_count": 96,
   "metadata": {},
   "outputs": [
    {
     "data": {
      "text/plain": [
       "volatile acidity         0.5900\n",
       "citric acid              0.0800\n",
       "residual sugar           4.4000\n",
       "chlorides                0.0860\n",
       "free sulfur dioxide      6.0000\n",
       "total sulfur dioxide    29.0000\n",
       "density                  0.9974\n",
       "pH                       3.3800\n",
       "sulphates                0.5000\n",
       "alcohol                  9.0000\n",
       "quality                  4.0000\n",
       "Name: 7.4, dtype: float64"
      ]
     },
     "execution_count": 96,
     "metadata": {},
     "output_type": "execute_result"
    }
   ],
   "source": [
    "# Accessing chosen columns by passing a list of columns needed\n",
    "cols_to_keep = wines_df[['density', 'pH']]\n",
    "\n",
    "# Accessing chosen rows (can use .loc or iloc)... practice by commenting these out\n",
    "#info = wines_df.loc['0'] # .loc is unique to Pandas, this command will only work if the index_col = 0 wasn't passed earlier\n",
    "wines_df.iloc[18] # .iloc works with Python, like regular indexing, and this will get us the 19th row of the DataFrame\n",
    "#wines_df.iloc[:, 0] # Using .iloc to get the first column of data"
   ]
  },
  {
   "cell_type": "markdown",
   "metadata": {},
   "source": [
    "We can also make DataFrames from a dictionary of lists (each key is the feature name and the values make up the columns for the respective feature), and a list of dictionaries (each observation is a key:value pair, common when pulling in data)."
   ]
  },
  {
   "cell_type": "code",
   "execution_count": 102,
   "metadata": {},
   "outputs": [
    {
     "name": "stdout",
     "output_type": "stream",
     "text": [
      "         day  mileage  treadmill\n",
      "0     Monday        0      False\n",
      "1    Tuesday        6       True\n",
      "2  Wednesday        8       True\n",
      "3   Thursday        6      False\n",
      "4     Friday        9      False\n",
      "5   Saturday        7       True\n",
      "6     Sunday       12      False\n",
      "\n",
      "\n",
      "      name position    HOF\n",
      "0     Mays       OF   True\n",
      "1    Bonds       OF  False\n",
      "2  McCovey    1B/OF   True\n"
     ]
    }
   ],
   "source": [
    "# DataFrame from dictionary of lists\n",
    "my_runs = {'day': ['Monday', 'Tuesday', 'Wednesday', 'Thursday', 'Friday', 'Saturday', 'Sunday'],\n",
    "          'mileage': [0, 6, 8, 6, 9, 7, 12],\n",
    "          'treadmill': [False, True, True, False, False, True, False]}\n",
    "training_df = pd.DataFrame(my_runs)\n",
    "print(training_df)\n",
    "\n",
    "# DataFrame from list of dictionaries\n",
    "players = [{'name': 'Mays', 'position': 'OF', 'HOF': True},\n",
    "          {'name': 'Bonds', 'position': 'OF', 'HOF': False},\n",
    "          {'name': 'McCovey', 'position': '1B/OF', 'HOF': True}]\n",
    "players_df = pd.DataFrame(players)\n",
    "print(\"\\n\")\n",
    "print(players_df)"
   ]
  },
  {
   "cell_type": "markdown",
   "metadata": {},
   "source": [
    "### Loops"
   ]
  },
  {
   "cell_type": "code",
   "execution_count": null,
   "metadata": {},
   "outputs": [],
   "source": []
  }
 ],
 "metadata": {
  "kernelspec": {
   "display_name": "Python 3 (ipykernel)",
   "language": "python",
   "name": "python3"
  },
  "language_info": {
   "codemirror_mode": {
    "name": "ipython",
    "version": 3
   },
   "file_extension": ".py",
   "mimetype": "text/x-python",
   "name": "python",
   "nbconvert_exporter": "python",
   "pygments_lexer": "ipython3",
   "version": "3.9.9"
  }
 },
 "nbformat": 4,
 "nbformat_minor": 4
}
